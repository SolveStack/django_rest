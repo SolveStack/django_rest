{
 "cells": [
  {
   "cell_type": "markdown",
   "metadata": {},
   "source": [
    "# Quickstart"
   ]
  },
  {
   "cell_type": "markdown",
   "metadata": {},
   "source": [
    "https://www.django-rest-framework.org/tutorial/quickstart/\n",
    "\n",
    "## Project setup\n",
    "- startproject is run with a . after the project name to put the app in the project directory, but it helps avoid clashes with external module's namespaces\n",
    "\n",
    "## Serializers\n",
    "`HyperlinkedModelSerializer` used instead of primary key and various other relationships - hyperlinking is good RESTful design\n",
    "\n",
    "## Views\n",
    "We group common behavior into classes called `ViewSets`.  These can be very concise and organized.\n",
    "\n",
    "## URLs\n",
    "When using viewsets, we can generate the URL conf for our API by registering viewsets with a router class in `urls.py`\n",
    "- if we need more control over API URLs we can use class-based views and explicitely write URL conf\n",
    "- default login and logout views are added for browsable API\n",
    "\n",
    "## Pagination\n",
    "Determines how many objects per page are returned.  Edit `settings.py`."
   ]
  },
  {
   "cell_type": "markdown",
   "metadata": {},
   "source": [
    "# API access\n",
    "Run the server, then \n",
    "`curl -H 'Accept: application/json; indent=4' -u admin:password123 http://127.0.0.1:8000/users/`\n",
    "or with HTTPie\n",
    "`http -a admin:password123 http://127.0.0.1:8000/users/`\n",
    "or point the browser to\n",
    "http://127.0.0.1:8000/users/"
   ]
  },
  {
   "cell_type": "markdown",
   "metadata": {},
   "source": [
    "# In-depth Tutorial\n",
    "https://www.django-rest-framework.org/tutorial/1-serialization/"
   ]
  },
  {
   "cell_type": "markdown",
   "metadata": {},
   "source": [
    "The tutorial walks through setting up the snippets app, and creating a model for it.\n",
    "\n",
    "## Creating a Serializer class\n",
    "We can serialize data into `json` by declaring serializers in a way similar to Django's forms\n",
    "\n",
    "### snippets/serializers.py"
   ]
  },
  {
   "cell_type": "code",
   "execution_count": null,
   "metadata": {},
   "outputs": [],
   "source": [
    "from rest_framework import serializers\n",
    "from snippets.models import Snippet, LANGUAGE_CHOICES, STYLE_CHOICES\n",
    "\n",
    "\n",
    "class SnippetSerializer(serializers.Serializer):\n",
    "    id = serializers.IntegerField(read_only=True)\n",
    "    title = serializers.CharField(required=False, allow_blank=True, max_length=100)\n",
    "    code = serializers.CharField(style={'base_template': 'textarea.html'})\n",
    "    linenos = serializers.BooleanField(required=False)\n",
    "    language = serializers.ChoiceField(choices=LANGUAGE_CHOICES, default='python')\n",
    "    style = serializers.ChoiceField(choices=STYLE_CHOICES, default='friendly')\n",
    "\n",
    "    def create(self, validated_data):\n",
    "        \"\"\"\n",
    "        Create and return a new `Snippet` instance, given the validated data.\n",
    "        \"\"\"\n",
    "        return Snippet.objects.create(**validated_data)\n",
    "\n",
    "    def update(self, instance, validated_data):\n",
    "        \"\"\"\n",
    "        Update and return an existing `Snippet` instance, given the validated data.\n",
    "        \"\"\"\n",
    "        instance.title = validated_data.get('title', instance.title)\n",
    "        instance.code = validated_data.get('code', instance.code)\n",
    "        instance.linenos = validated_data.get('linenos', instance.linenos)\n",
    "        instance.language = validated_data.get('language', instance.language)\n",
    "        instance.style = validated_data.get('style', instance.style)\n",
    "        instance.save()\n",
    "        return instance"
   ]
  },
  {
   "cell_type": "markdown",
   "metadata": {},
   "source": [
    "### Serializing"
   ]
  },
  {
   "cell_type": "markdown",
   "metadata": {},
   "source": [
    "Now that we have this set up, run `python manage.py shell` from the terminal.  Once inside:"
   ]
  },
  {
   "cell_type": "code",
   "execution_count": null,
   "metadata": {},
   "outputs": [],
   "source": [
    "from snippets.models import Snippet\n",
    "from snippets.serializers import SnippetSerializer\n",
    "from rest_framework.renderers import JSONRenderer\n",
    "from rest_framework.parsers import JSONParser\n",
    "\n",
    "# we'll add some data to play with\n",
    "snippet = Snippet(code='foo = \"bar\"\\n')\n",
    "snippet.save()\n",
    "\n",
    "snippet = Snippet(code='print(\"hello, world\")\\n')\n",
    "snippet.save()"
   ]
  },
  {
   "cell_type": "code",
   "execution_count": null,
   "metadata": {},
   "outputs": [],
   "source": [
    "# now we can see what the serialized output is\n",
    "# this will be Python native datatypes\n",
    "serializer = SnippetSerializer(snippet)\n",
    "serializer.data"
   ]
  },
  {
   "cell_type": "code",
   "execution_count": null,
   "metadata": {},
   "outputs": [],
   "source": [
    "# render to json\n",
    "content = JSONRenderer().render(serializer.data)\n",
    "content"
   ]
  },
  {
   "cell_type": "markdown",
   "metadata": {},
   "source": [
    "### Deserialization"
   ]
  },
  {
   "cell_type": "code",
   "execution_count": null,
   "metadata": {},
   "outputs": [],
   "source": [
    "import io\n",
    "\n",
    "# parse a stream into Python native datatypes\n",
    "stream = io.BytesIO(content)\n",
    "data = JSONParser().parse(stream)"
   ]
  },
  {
   "cell_type": "code",
   "execution_count": null,
   "metadata": {},
   "outputs": [],
   "source": [
    "# restore native datatypes to object instance\n",
    "serializer = SnippetSerializer(data=data)\n",
    "serializer.is_valid()\n",
    "# True\n",
    "serializer.validated_data\n",
    "# OrderedDict([('title', ''), ('code', 'print(\"hello, world\")\\n'), ('linenos', False), ('language', 'python'), ('style', 'friendly')])\n",
    "serializer.save()\n",
    "# <Snippet: Snippet object>"
   ]
  },
  {
   "cell_type": "markdown",
   "metadata": {},
   "source": [
    "### Serializing querysets\n",
    "Add `many=True` to serializer arguments"
   ]
  },
  {
   "cell_type": "code",
   "execution_count": null,
   "metadata": {},
   "outputs": [],
   "source": [
    "serializer = SnippetSerializer(Snippet.objects.all(), many=True)\n",
    "serializer.data\n",
    "# [OrderedDict([('id', 1), ('title', ''), ('code', 'foo = \"bar\"\\n'), ('linenos', False), ('language', 'python'), ('style', 'friendly')]), OrderedDict([('id', 2), ('title', ''), ('code', 'print(\"hello, world\")\\n'), ('linenos', False), ('language', 'python'), ('style', 'friendly')]), OrderedDict([('id', 3), ('title', ''), ('code', 'print(\"hello, world\")'), ('linenos', False), ('language', 'python'), ('style', 'friendly')])]"
   ]
  },
  {
   "cell_type": "markdown",
   "metadata": {},
   "source": [
    "### ModelSerializers\n",
    "`SnippetSerializer` and the `Snippet` model are a little redundant.  REST provides `Serializer` and `ModelSerializer` classes.  We can rewrite `snippets/serializers` by replacing `SnippetsSerializer`"
   ]
  },
  {
   "cell_type": "code",
   "execution_count": null,
   "metadata": {},
   "outputs": [],
   "source": [
    "class SnippetSerializer(serializers.ModelSerializer):\n",
    "    class Meta:\n",
    "        model = Snippet\n",
    "        fields = ['id', 'title', 'code', 'linenos', 'language', 'style']"
   ]
  },
  {
   "cell_type": "markdown",
   "metadata": {},
   "source": [
    "`ModelSerializer` classes are a shortcut for creating serializer classes:\n",
    "- automatically determined set of fields\n",
    "- simple `create()` and `update()` methods are implemented for you"
   ]
  },
  {
   "cell_type": "markdown",
   "metadata": {},
   "source": [
    "## Writing views using Serializer\n",
    "First we'll write views as regular Django views in `snippets/views.py`"
   ]
  },
  {
   "cell_type": "code",
   "execution_count": null,
   "metadata": {},
   "outputs": [],
   "source": [
    "from django.http import HttpResponse, JsonResponse\n",
    "from django.views.decorators.csrf import csrf_exempt\n",
    "from rest_framework.parsers import JSONParser\n",
    "from snippets.models import Snippet\n",
    "from snippets.serializers import SnippetSerializer"
   ]
  },
  {
   "cell_type": "markdown",
   "metadata": {},
   "source": [
    "Will have a view that supports listing all the existing snippets or creating a new snippet"
   ]
  },
  {
   "cell_type": "code",
   "execution_count": null,
   "metadata": {},
   "outputs": [],
   "source": [
    "@csrf_exempt\n",
    "def snippet_list(request):\n",
    "    \"\"\"\n",
    "    List all code snippets, or create a new snippet.\n",
    "    \"\"\"\n",
    "    if request.method == 'GET':\n",
    "        snippets = Snippet.objects.all()\n",
    "        serializer = SnippetSerializer(snippets, many=True)\n",
    "        return JsonResponse(serializer.data, safe=False)\n",
    "\n",
    "    elif request.method == 'POST':\n",
    "        data = JSONParser().parse(request)\n",
    "        serializer = SnippetSerializer(data=data)\n",
    "        if serializer.is_valid():\n",
    "            serializer.save()\n",
    "            return JsonResponse(serializer.data, status=201)\n",
    "        return JsonResponse(serializer.errors, status=400)"
   ]
  },
  {
   "cell_type": "markdown",
   "metadata": {},
   "source": [
    "The view is marked as `csrf_exempt` to make things easier for now - we wouldn't do with REST framework views.  For viewing an individual snippet:"
   ]
  },
  {
   "cell_type": "code",
   "execution_count": null,
   "metadata": {},
   "outputs": [],
   "source": [
    "@csrf_exempt\n",
    "def snippet_detail(request, pk):\n",
    "    \"\"\"\n",
    "    Retrieve, update or delete a code snippet.\n",
    "    \"\"\"\n",
    "    try:\n",
    "        snippet = Snippet.objects.get(pk=pk)\n",
    "    except Snippet.DoesNotExist:\n",
    "        return HttpResponse(status=404)\n",
    "\n",
    "    if request.method == 'GET':\n",
    "        serializer = SnippetSerializer(snippet)\n",
    "        return JsonResponse(serializer.data)\n",
    "\n",
    "    elif request.method == 'PUT':\n",
    "        data = JSONParser().parse(request)\n",
    "        serializer = SnippetSerializer(snippet, data=data)\n",
    "        if serializer.is_valid():\n",
    "            serializer.save()\n",
    "            return JsonResponse(serializer.data)\n",
    "        return JsonResponse(serializer.errors, status=400)\n",
    "\n",
    "    elif request.method == 'DELETE':\n",
    "        snippet.delete()\n",
    "        return HttpResponse(status=204)"
   ]
  },
  {
   "cell_type": "markdown",
   "metadata": {},
   "source": [
    " Create `snippets/urls.py` and wire the views"
   ]
  },
  {
   "cell_type": "code",
   "execution_count": null,
   "metadata": {},
   "outputs": [],
   "source": [
    "from django.urls import path\n",
    "from snippets import views\n",
    "\n",
    "urlpatterns = [\n",
    "    path('snippets/', views.snippet_list),\n",
    "    path('snippets/<int:pk>/', views.snippet_detail),\n",
    "]"
   ]
  },
  {
   "cell_type": "markdown",
   "metadata": {},
   "source": [
    "Edit `tutorial/urls.py`"
   ]
  },
  {
   "cell_type": "code",
   "execution_count": null,
   "metadata": {},
   "outputs": [],
   "source": [
    "from django.urls import path, include\n",
    "\n",
    "urlpatterns = [\n",
    "    path('', include('snippets.urls')),\n",
    "]"
   ]
  },
  {
   "cell_type": "markdown",
   "metadata": {},
   "source": [
    "# Testing\n",
    "Run `python manage.py runserver`.  In another terminal, install `httpie` with pip.  \n",
    "- Run `http http://127.0.0.1:8000/snippets/`\n",
    "- Run `http http://127.0.0.1:8000/snippets/2/` to reference by id\n",
    "- `json` can be viewed by going through the browser:\n",
    "    - http://127.0.0.1:8000/snippets/\n",
    "    - http://127.0.0.1:8000/snippets/2/"
   ]
  },
  {
   "cell_type": "markdown",
   "metadata": {},
   "source": [
    "# Requests and Responses\n",
    "## Request objects\n",
    "`Request` objects extend `HttpRequest` to give us more parsing options.\n",
    "\n",
    "`request.data` can be used for `POST`, `PUT`, and `PATCH` methods\n",
    "## Response objects\n",
    "`Response` objects come from `TemplateResponse`, and uses content negotiation to return correct content type data.\n",
    "## Status codes\n",
    "REST framework gives more explicit identifiers for status codes like `HTTP_400_BAD_REQUEST` using the `status` module\n",
    "## Wrapping API views\n",
    "1. `@api_view` decorator for function-based views\n",
    "1. `APIView` class for working with class-based views\n",
    "\n",
    "Both:\n",
    "- Make sure you receive `Request` instances in your view\n",
    "- Add context to `Response` objects \n",
    "- Detailed responses\n",
    "- Handle `ParseError` exceptions if `request.data` is accessed with flawed input"
   ]
  },
  {
   "cell_type": "markdown",
   "metadata": {},
   "source": [
    "## Refactoring request objects\n",
    "Replace django imports with rest_framework imports, make use of request objects to make code more concise in `snippets/views.py`.  It's very similar to working with normal Django views."
   ]
  },
  {
   "cell_type": "code",
   "execution_count": null,
   "metadata": {},
   "outputs": [],
   "source": [
    "from rest_framework import status\n",
    "from rest_framework.decorators import api_view\n",
    "from rest_framework.response import Response\n",
    "from snippets.models import Snippet\n",
    "from snippets.serializers import SnippetSerializer\n",
    "\n",
    "\n",
    "@api_view(['GET', 'POST'])\n",
    "def snippet_list(request):\n",
    "    \"\"\"\n",
    "    List all code snippets, or create a new snippet.\n",
    "    \"\"\"\n",
    "    if request.method == 'GET':\n",
    "        snippets = Snippet.objects.all()\n",
    "        serializer = SnippetSerializer(snippets, many=True)\n",
    "        return Response(serializer.data)\n",
    "\n",
    "    elif request.method == 'POST':\n",
    "        serializer = SnippetSerializer(data=request.data)\n",
    "        if serializer.is_valid():\n",
    "            serializer.save()\n",
    "            return Response(serializer.data, status=status.HTTP_201_CREATED)\n",
    "        return Response(serializer.errors, status=status.HTTP_400_BAD_REQUEST)"
   ]
  },
  {
   "cell_type": "code",
   "execution_count": null,
   "metadata": {},
   "outputs": [],
   "source": [
    "@api_view(['GET', 'PUT', 'DELETE'])\n",
    "def snippet_detail(request, pk):\n",
    "    \"\"\"\n",
    "    Retrieve, update or delete a code snippet.\n",
    "    \"\"\"\n",
    "    try:\n",
    "        snippet = Snippet.objects.get(pk=pk)\n",
    "    except Snippet.DoesNotExist:\n",
    "        return Response(status=status.HTTP_404_NOT_FOUND)\n",
    "\n",
    "    if request.method == 'GET':\n",
    "        serializer = SnippetSerializer(snippet)\n",
    "        return Response(serializer.data)\n",
    "\n",
    "    elif request.method == 'PUT':\n",
    "        serializer = SnippetSerializer(snippet, data=request.data)\n",
    "        if serializer.is_valid():\n",
    "            serializer.save()\n",
    "            return Response(serializer.data)\n",
    "        return Response(serializer.errors, status=status.HTTP_400_BAD_REQUEST)\n",
    "\n",
    "    elif request.method == 'DELETE':\n",
    "        snippet.delete()\n",
    "        return Response(status=status.HTTP_204_NO_CONTENT)"
   ]
  },
  {
   "cell_type": "markdown",
   "metadata": {},
   "source": [
    "## Optional format suffixes\n",
    "If our responses are no longer hardwired to a single content type, we can add support for format suffixes to our API endpoints.  This will make the URLs explicitly refer to a format.  It can be done by adding `format=None` as an argument in both views.\n",
    "\n",
    "Update `snippets/urls.py` to have `format_suffix_patterns`"
   ]
  },
  {
   "cell_type": "code",
   "execution_count": null,
   "metadata": {},
   "outputs": [],
   "source": [
    "from django.urls import path\n",
    "from rest_framework.urlpatterns import format_suffix_patterns\n",
    "from snippets import views\n",
    "\n",
    "urlpatterns = [\n",
    "    path('snippets/', views.snippet_list),\n",
    "    path('snippets/<int:pk>', views.snippet_detail),\n",
    "]\n",
    "\n",
    "urlpatterns = format_suffix_patterns(urlpatterns)"
   ]
  },
  {
   "cell_type": "markdown",
   "metadata": {},
   "source": [
    "Run the server and try:\n",
    "`http http://127.0.0.1:8000/snippets/`\n",
    "\n",
    "and\n",
    "\n",
    "`http http://127.0.0.1:8000/snippets/ Accept:application/json` \n",
    "\n",
    "and \n",
    "\n",
    "`http http://127.0.0.1:8000/snippets/ Accept:text/html`\n",
    "\n",
    "and\n",
    "\n",
    "`http http://127.0.0.1:8000/snippets.json`\n",
    "\n",
    "and\n",
    "\n",
    "`http http://127.0.0.1:8000/snippets.api`\n",
    "\n",
    "and\n",
    "\n",
    "`http --form POST http://127.0.0.1:8000/snippets/ code=\"print(123)\"`\n",
    "\n",
    "and\n",
    "\n",
    "`http --json POST http://127.0.0.1:8000/snippets/ code=\"print(456)\"`\n",
    "\n",
    "Note: adding `--debug` to these will show the request type in request headers\n",
    "\n",
    "Browsable API can be used since HTML is returned by default when requested by a web browser."
   ]
  },
  {
   "cell_type": "markdown",
   "metadata": {},
   "source": [
    "# Class-based views\n",
    "We are going to re-write the root view as a class-based view.\n",
    "> - This creates a pattern that allows us to reuse common functionality\n",
    "> - It keeps our code [DRY](https://en.wikipedia.org/wiki/Don't_repeat_yourself)\n",
    "\n",
    "Let's refactor `snippets/views.py` with the below code"
   ]
  },
  {
   "cell_type": "code",
   "execution_count": null,
   "metadata": {},
   "outputs": [],
   "source": [
    "from snippets.models import Snippet\n",
    "from snippets.serializers import SnippetSerializer\n",
    "from django.http import Http404\n",
    "from rest_framework.views import APIView\n",
    "from rest_framework.response import Response\n",
    "from rest_framework import status\n",
    "\n",
    "\n",
    "class SnippetList(APIView):\n",
    "    \"\"\"\n",
    "    List all snippets, or create a new snippet.\n",
    "    \"\"\"\n",
    "    def get(self, request, format=None):\n",
    "        snippets = Snippet.objects.all()\n",
    "        serializer = SnippetSerializer(snippets, many=True)\n",
    "        return Response(serializer.data)\n",
    "\n",
    "    def post(self, request, format=None):\n",
    "        serializer = SnippetSerializer(data=request.data)\n",
    "        if serializer.is_valid():\n",
    "            serializer.save()\n",
    "            return Response(serializer.data, status=status.HTTP_201_CREATED)\n",
    "        return Response(serializer.errors, status=status.HTTP_400_BAD_REQUEST)\n",
    "    \n",
    "class SnippetDetail(APIView):\n",
    "    \"\"\"\n",
    "    Retrieve, update or delete a snippet instance.\n",
    "    \"\"\"\n",
    "    def get_object(self, pk):\n",
    "        try:\n",
    "            return Snippet.objects.get(pk=pk)\n",
    "        except Snippet.DoesNotExist:\n",
    "            raise Http404\n",
    "\n",
    "    def get(self, request, pk, format=None):\n",
    "        snippet = self.get_object(pk)\n",
    "        serializer = SnippetSerializer(snippet)\n",
    "        return Response(serializer.data)\n",
    "\n",
    "    def put(self, request, pk, format=None):\n",
    "        snippet = self.get_object(pk)\n",
    "        serializer = SnippetSerializer(snippet, data=request.data)\n",
    "        if serializer.is_valid():\n",
    "            serializer.save()\n",
    "            return Response(serializer.data)\n",
    "        return Response(serializer.errors, status=status.HTTP_400_BAD_REQUEST)\n",
    "\n",
    "    def delete(self, request, pk, format=None):\n",
    "        snippet = self.get_object(pk)\n",
    "        snippet.delete()\n",
    "        return Response(status=status.HTTP_204_NO_CONTENT)"
   ]
  },
  {
   "cell_type": "markdown",
   "metadata": {},
   "source": [
    "Then we refactor `snippets/urls.py`.  Note `as_view()`"
   ]
  },
  {
   "cell_type": "code",
   "execution_count": null,
   "metadata": {},
   "outputs": [],
   "source": [
    "from django.urls import path\n",
    "from rest_framework.urlpatterns import format_suffix_patterns\n",
    "from snippets import views\n",
    "\n",
    "urlpatterns = [\n",
    "    path('snippets/', views.SnippetList.as_view()),\n",
    "    path('snippets/<int:pk>/', views.SnippetDetail.as_view()),\n",
    "]\n",
    "\n",
    "urlpatterns = format_suffix_patterns(urlpatterns)"
   ]
  },
  {
   "cell_type": "markdown",
   "metadata": {},
   "source": [
    "## Using mixins\n",
    "Because create/retreive/update/delete operations are similar for any model-backend API views we create.  REST framework's mixin classes provide this behavior.  Let's refactor `snippets/views.py` again using these."
   ]
  },
  {
   "cell_type": "code",
   "execution_count": null,
   "metadata": {},
   "outputs": [],
   "source": [
    "from snippets.models import Snippet\n",
    "from snippets.serializers import SnippetSerializer\n",
    "from rest_framework import mixins\n",
    "from rest_framework import generics\n",
    "\n",
    "class SnippetList(mixins.ListModelMixin,\n",
    "                  mixins.CreateModelMixin,\n",
    "                  generics.GenericAPIView):\n",
    "    queryset = Snippet.objects.all()\n",
    "    serializer_class = SnippetSerializer\n",
    "\n",
    "    def get(self, request, *args, **kwargs):\n",
    "        return self.list(request, *args, **kwargs)\n",
    "\n",
    "    def post(self, request, *args, **kwargs):\n",
    "        return self.create(request, *args, **kwargs)"
   ]
  },
  {
   "cell_type": "markdown",
   "metadata": {},
   "source": [
    "View is built with `GenericAPIView` (core functionality) with `ListModelMixin` and `CreateModelMixin` (give `.list()` and `.create()` actions.  Then we bind get/post to the right actions."
   ]
  },
  {
   "cell_type": "code",
   "execution_count": null,
   "metadata": {},
   "outputs": [],
   "source": [
    "class SnippetDetail(mixins.RetrieveModelMixin,\n",
    "                    mixins.UpdateModelMixin,\n",
    "                    mixins.DestroyModelMixin,\n",
    "                    generics.GenericAPIView):\n",
    "    queryset = Snippet.objects.all()\n",
    "    serializer_class = SnippetSerializer\n",
    "\n",
    "    def get(self, request, *args, **kwargs):\n",
    "        return self.retrieve(request, *args, **kwargs)\n",
    "\n",
    "    def put(self, request, *args, **kwargs):\n",
    "        return self.update(request, *args, **kwargs)\n",
    "\n",
    "    def delete(self, request, *args, **kwargs):\n",
    "        return self.destroy(request, *args, **kwargs)"
   ]
  },
  {
   "cell_type": "markdown",
   "metadata": {},
   "source": [
    "`GenericAPIView` class for core again, with mixins added for `.retreive()`, `.update()`, and `.destroy()` actions.\n",
    "\n",
    "## Using generic class-based views\n",
    "REST framework provides a set of already mixed-in generic views that we can use to trim down `views.py` more."
   ]
  },
  {
   "cell_type": "code",
   "execution_count": null,
   "metadata": {},
   "outputs": [],
   "source": [
    "from snippets.models import Snippet\n",
    "from snippets.serializers import SnippetSerializer\n",
    "from rest_framework import generics\n",
    "\n",
    "\n",
    "class SnippetList(generics.ListCreateAPIView):\n",
    "    queryset = Snippet.objects.all()\n",
    "    serializer_class = SnippetSerializer\n",
    "\n",
    "\n",
    "class SnippetDetail(generics.RetrieveUpdateDestroyAPIView):\n",
    "    queryset = Snippet.objects.all()\n",
    "    serializer_class = SnippetSerializer"
   ]
  },
  {
   "cell_type": "markdown",
   "metadata": {},
   "source": [
    "Let's test this again to prove it behaves the same:\n",
    "\n",
    "Run the server and try: `http http://127.0.0.1:8000/snippets/`"
   ]
  },
  {
   "cell_type": "markdown",
   "metadata": {},
   "source": [
    "## Authentication and Permissions\n",
    "Right now anyone can delete or edit code snippets.  Let's make this more secure.\n",
    "- We want to associate with a creator\n",
    "- only authenticated users can create\n",
    "- Only the creator of a snippet may update or delete\n",
    "- Unauthenticated requests should have full read-only access\n",
    "\n",
    "To make these changes, we have to start by adding fields to our model.\n",
    "\n",
    "### Adding info to our model\n",
    "Let's add these fields to our `snippets/models.py` file:"
   ]
  },
  {
   "cell_type": "code",
   "execution_count": null,
   "metadata": {},
   "outputs": [],
   "source": [
    "owner = models.ForeignKey('auth.User', related_name='snippets', on_delete=models.CASCADE)\n",
    "highlighted = models.TextField()"
   ]
  },
  {
   "cell_type": "markdown",
   "metadata": {},
   "source": [
    "Since we will use the `pygments` code-highlighting library, we'll add these imports to the top of `snippets/models.py`:"
   ]
  },
  {
   "cell_type": "code",
   "execution_count": null,
   "metadata": {},
   "outputs": [],
   "source": [
    "from pygments.lexers import get_lexer_by_name\n",
    "from pygments.formatters.html import HtmlFormatter\n",
    "from pygments import highlight"
   ]
  },
  {
   "cell_type": "markdown",
   "metadata": {},
   "source": [
    "We then add the `.save()` method to the model class:"
   ]
  },
  {
   "cell_type": "code",
   "execution_count": null,
   "metadata": {},
   "outputs": [],
   "source": [
    "def save(self, *args, **kwargs):\n",
    "    \"\"\"\n",
    "    Use the `pygments` library to create a highlighted HTML\n",
    "    representation of the code snippet.\n",
    "    \"\"\"\n",
    "    lexer = get_lexer_by_name(self.language)\n",
    "    linenos = 'table' if self.linenos else False\n",
    "    options = {'title': self.title} if self.title else {}\n",
    "    formatter = HtmlFormatter(style=self.style, linenos=linenos,\n",
    "                              full=True, **options)\n",
    "    self.highlighted = highlight(self.code, lexer, formatter)\n",
    "    super(Snippet, self).save(*args, **kwargs)"
   ]
  },
  {
   "cell_type": "markdown",
   "metadata": {},
   "source": [
    "Instead of performing a db migration, the tutorial says to delete the db and start again (maybe this is quicker with all the fiddling we did):\n",
    "```\n",
    "rm -f db.sqlite3\n",
    "rm -r snippets/migrations\n",
    "python manage.py makemigrations snippets\n",
    "python manage.py migrate\n",
    "```\n",
    "\n",
    "When done, create a superuser:\n",
    "`python manage.py createsuperuser`\n",
    "\n",
    "### Adding endpoints for User models\n",
    "With a user to work with, we can create better representations in the API.  We'll make a new serializer by adding this to  `snippets/serializers.py`:"
   ]
  },
  {
   "cell_type": "code",
   "execution_count": null,
   "metadata": {},
   "outputs": [],
   "source": [
    "from django.contrib.auth.models import User\n",
    "\n",
    "class UserSerializer(serializers.ModelSerializer):\n",
    "    snippets = serializers.PrimaryKeyRelatedField(many=True, queryset=Snippet.objects.all())\n",
    "\n",
    "    class Meta:\n",
    "        model = User\n",
    "        fields = ['id', 'username', 'snippets']"
   ]
  },
  {
   "cell_type": "markdown",
   "metadata": {},
   "source": [
    "The `snippets` field has a reverse relationship on the `User` model - it won't be included by default when using `ModelSerializer` so we add an explicit field for it.\n",
    "\n",
    "Let's add some views to `snippets/views.py`.  We can use `ListAPIView` and `RetreiveAPIView` for generic class-based views:"
   ]
  },
  {
   "cell_type": "code",
   "execution_count": null,
   "metadata": {},
   "outputs": [],
   "source": [
    "from django.contrib.auth.models import User\n",
    "from snippets.serializers import UserSerializer\n",
    "\n",
    "class UserList(generics.ListAPIView):\n",
    "    queryset = User.objects.all()\n",
    "    serializer_class = UserSerializer\n",
    "\n",
    "\n",
    "class UserDetail(generics.RetrieveAPIView):\n",
    "    queryset = User.objects.all()\n",
    "    serializer_class = UserSerializer"
   ]
  },
  {
   "cell_type": "markdown",
   "metadata": {},
   "source": [
    "We are using the `UserSerializer` class in both views.\n",
    "\n",
    "Let's edit `snippets/urls.py` to get the views added to the API.  Add:"
   ]
  },
  {
   "cell_type": "code",
   "execution_count": null,
   "metadata": {},
   "outputs": [],
   "source": [
    "path('users/', views.UserList.as_view()),\n",
    "path('users/<int:pk>/', views.UserDetail.as_view()),"
   ]
  },
  {
   "cell_type": "markdown",
   "metadata": {},
   "source": [
    "### Associating snippets with users\n",
    "Currently the user isn't sent as part of the serialized representation - they are a property of the incoming request.  We want to associate the user that created the snippet with the snippet instance.  We can override the `.perform_create()` method on our views.  This let's us modify how the instance save is managed and handle info that is implicit in the incoming request or requested URL.\n",
    "\n",
    "Add the code below to the `SnippetList` class in `snippets/views.py`, and the `create()` method of the serializer will be passed the `owner` filed, and the validated data from the request:"
   ]
  },
  {
   "cell_type": "code",
   "execution_count": null,
   "metadata": {},
   "outputs": [],
   "source": [
    "def perform_create(self, serializer):\n",
    "    serializer.save(owner=self.request.user)"
   ]
  },
  {
   "cell_type": "markdown",
   "metadata": {},
   "source": [
    "### Updating the serializer\n",
    "We can add a field to the `SnippetSerializer` definition in `snippets/seralizers.py`:"
   ]
  },
  {
   "cell_type": "code",
   "execution_count": null,
   "metadata": {},
   "outputs": [],
   "source": [
    "class SnippetSerializer(serializers.ModelSerializer):\n",
    "    owner = serializers.ReadOnlyField(source='owner.username')\n",
    "    class Meta:\n",
    "        model = Snippet\n",
    "        fields = ['id', 'title', 'code', 'linenos', 'language', 'style', 'owner',]"
   ]
  },
  {
   "cell_type": "markdown",
   "metadata": {},
   "source": [
    "The `source` argument controls the attribute that is used to populate a field, and can point to any attribute on the serialized instance.  The dotted notation used in the code below allows it to traverse given attributes in a similiar way as it is used in Django's template language.\n",
    "\n",
    "`ReadOnlyField` is untyped, always read-only, used for serialized representations, but not used for updating model instances when they are deserialized.  `CharField(read_only=True)` could have also been used here.\n",
    "\n",
    "### Adding required permissions to views\n",
    "To ensure only authenticated users can cretae, update, and delete snippets, we can use REST framework's permission classes.  `IsAuthenticatedOrReadOnly` will make sure auth reqs get read-write access, and unathenticated requests get read-only access."
   ]
  },
  {
   "cell_type": "code",
   "execution_count": null,
   "metadata": {},
   "outputs": [],
   "source": [
    "# add this import to snippets/views.py\n",
    "from rest_framework import permissions"
   ]
  },
  {
   "cell_type": "markdown",
   "metadata": {},
   "source": [
    "Add this property to both `SnippetList` and `SnippetDetail` view classes:"
   ]
  },
  {
   "cell_type": "code",
   "execution_count": null,
   "metadata": {},
   "outputs": [],
   "source": [
    "permission_classes = [permissions.IsAuthenticatedOrReadOnly]"
   ]
  },
  {
   "cell_type": "markdown",
   "metadata": {},
   "source": [
    "### Adding login to Browsable API\n",
    "We can add in the login for the browsable API by eding the URLconf in our project-level `tutorial/urls.py` file:"
   ]
  },
  {
   "cell_type": "code",
   "execution_count": null,
   "metadata": {},
   "outputs": [],
   "source": [
    "from django.urls import path, include\n",
    "\n",
    "# add this to bottom of file\n",
    "urlpatterns += [\n",
    "    path('api-auth/', include('rest_framework.urls')),\n",
    "]"
   ]
  },
  {
   "cell_type": "markdown",
   "metadata": {},
   "source": [
    "Run the server with `python manage.py runserver`, and navigate to http://127.0.0.1:8000/snippets/ with your browser.  Example output after submitting a snippet:\n",
    "\n",
    "```\n",
    "HTTP 201 Created\n",
    "Allow: GET, POST, HEAD, OPTIONS\n",
    "Content-Type: application/json\n",
    "Vary: Accept\n",
    "\n",
    "{\n",
    "    \"id\": 1,\n",
    "    \"title\": \"All Unique\",\n",
    "    \"code\": \"def all_unique(lst):\\r\\n    return len(lst) == len(set(lst))\",\n",
    "    \"linenos\": false,\n",
    "    \"language\": \"python\",\n",
    "    \"style\": \"default\",\n",
    "    \"owner\": \"brandon\"\n",
    "}\n",
    "```\n",
    "\n",
    "After creating a few snippets, go to http://127.0.0.1:8000/users/ and note that the snippet ids are associated with each user in each user's `snippets` field.\n",
    "\n",
    "```\n",
    "HTTP 200 OK\n",
    "Allow: GET, HEAD, OPTIONS\n",
    "Content-Type: application/json\n",
    "Vary: Accept\n",
    "\n",
    "[\n",
    "    {\n",
    "        \"id\": 1,\n",
    "        \"username\": \"brandon\",\n",
    "        \"snippets\": [\n",
    "            1,\n",
    "            2,\n",
    "            3\n",
    "        ]\n",
    "    }\n",
    "```\n",
    "\n",
    "### Object-level permissions\n",
    "We'd like the code snippets to be visible to anyone, but make sure the user who created it can update or delete it.  We'll create a custom permission.  Create a new file called `permissions.py` in the `snippets` folder.  Add the code below:"
   ]
  },
  {
   "cell_type": "code",
   "execution_count": null,
   "metadata": {},
   "outputs": [],
   "source": [
    "from rest_framework import permissions\n",
    "\n",
    "\n",
    "class IsOwnerOrReadOnly(permissions.BasePermission):\n",
    "    \"\"\"\n",
    "    Custom permission to only allow owners of an object to edit it.\n",
    "    \"\"\"\n",
    "\n",
    "    def has_object_permission(self, request, view, obj):\n",
    "        # Read permissions are allowed to any request,\n",
    "        # so we'll always allow GET, HEAD or OPTIONS requests.\n",
    "        if request.method in permissions.SAFE_METHODS:\n",
    "            return True\n",
    "\n",
    "        # Write permissions are only allowed to the owner of the snippet.\n",
    "        return obj.owner == request.user"
   ]
  },
  {
   "cell_type": "markdown",
   "metadata": {},
   "source": [
    "We can add the custom permission to our snippet instance endpoint by editing the `permissions_classes` property on the `SnippetDetail` view class, and add the import for `IsOwnerOrReadOnly`:"
   ]
  },
  {
   "cell_type": "code",
   "execution_count": null,
   "metadata": {},
   "outputs": [],
   "source": [
    "from snippets.permissions import IsOwnerOrReadOnly\n",
    "\n",
    "permission_classes = [permissions.IsAuthenticatedOrReadOnly,\n",
    "                      IsOwnerOrReadOnly]"
   ]
  },
  {
   "cell_type": "markdown",
   "metadata": {},
   "source": [
    "If you go back to http://127.0.0.1:8000/snippets/ and note that PUT and DELETE only appear if you're logged in as the user who created the snippet.\n",
    "\n",
    "### Authenticating with the API\n"
   ]
  }
 ],
 "metadata": {
  "kernelspec": {
   "display_name": "Python 3",
   "language": "python",
   "name": "python3"
  },
  "language_info": {
   "codemirror_mode": {
    "name": "ipython",
    "version": 3
   },
   "file_extension": ".py",
   "mimetype": "text/x-python",
   "name": "python",
   "nbconvert_exporter": "python",
   "pygments_lexer": "ipython3",
   "version": "3.7.3"
  }
 },
 "nbformat": 4,
 "nbformat_minor": 4
}
