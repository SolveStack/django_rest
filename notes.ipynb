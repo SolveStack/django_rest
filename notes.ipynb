{
 "cells": [
  {
   "cell_type": "markdown",
   "metadata": {},
   "source": [
    "# Quickstart"
   ]
  },
  {
   "cell_type": "markdown",
   "metadata": {},
   "source": [
    "https://www.django-rest-framework.org/tutorial/quickstart/\n",
    "\n",
    "## Project setup\n",
    "- startproject is run with a . after the project name to put the app in the project directory, but it helps avoid clashes with external module's namespaces\n",
    "\n",
    "## Serializers\n",
    "`HyperlinkedModelSerializer` used instead of primary key and various other relationships - hyperlinking is good RESTful design\n",
    "\n",
    "## Views\n",
    "We group common behavior into classes called `ViewSets`.  These can be very concise and organized.\n",
    "\n",
    "## URLs\n",
    "When using viewsets, we can generate the URL conf for our API by registering viewsets with a router class in `urls.py`\n",
    "- if we need more control over API URLs we can use class-based views and explicitely write URL conf\n",
    "- default login and logout views are added for browsable API\n",
    "\n",
    "## Pagination\n",
    "Determines how many objects per page are returned.  Edit `settings.py`."
   ]
  },
  {
   "cell_type": "markdown",
   "metadata": {},
   "source": [
    "# API access\n",
    "Run the server, then \n",
    "`curl -H 'Accept: application/json; indent=4' -u admin:password123 http://127.0.0.1:8000/users/`\n",
    "or with HTTPie\n",
    "`http -a admin:password123 http://127.0.0.1:8000/users/`\n",
    "or point the browser to\n",
    "http://127.0.0.1:8000/users/"
   ]
  },
  {
   "cell_type": "markdown",
   "metadata": {},
   "source": [
    "# In-depth Tutorial\n",
    "https://www.django-rest-framework.org/tutorial/1-serialization/"
   ]
  },
  {
   "cell_type": "markdown",
   "metadata": {},
   "source": [
    "The tutorial walks through setting up the snippets app, and creating a model for it.\n",
    "\n",
    "## Creating a Serializer class\n",
    "We can serialize data into `json` by declaring serializers in a way similar to Django's forms\n",
    "\n",
    "### snippets/serializers.py"
   ]
  },
  {
   "cell_type": "code",
   "execution_count": null,
   "metadata": {},
   "outputs": [],
   "source": [
    "from rest_framework import serializers\n",
    "from snippets.models import Snippet, LANGUAGE_CHOICES, STYLE_CHOICES\n",
    "\n",
    "\n",
    "class SnippetSerializer(serializers.Serializer):\n",
    "    id = serializers.IntegerField(read_only=True)\n",
    "    title = serializers.CharField(required=False, allow_blank=True, max_length=100)\n",
    "    code = serializers.CharField(style={'base_template': 'textarea.html'})\n",
    "    linenos = serializers.BooleanField(required=False)\n",
    "    language = serializers.ChoiceField(choices=LANGUAGE_CHOICES, default='python')\n",
    "    style = serializers.ChoiceField(choices=STYLE_CHOICES, default='friendly')\n",
    "\n",
    "    def create(self, validated_data):\n",
    "        \"\"\"\n",
    "        Create and return a new `Snippet` instance, given the validated data.\n",
    "        \"\"\"\n",
    "        return Snippet.objects.create(**validated_data)\n",
    "\n",
    "    def update(self, instance, validated_data):\n",
    "        \"\"\"\n",
    "        Update and return an existing `Snippet` instance, given the validated data.\n",
    "        \"\"\"\n",
    "        instance.title = validated_data.get('title', instance.title)\n",
    "        instance.code = validated_data.get('code', instance.code)\n",
    "        instance.linenos = validated_data.get('linenos', instance.linenos)\n",
    "        instance.language = validated_data.get('language', instance.language)\n",
    "        instance.style = validated_data.get('style', instance.style)\n",
    "        instance.save()\n",
    "        return instance"
   ]
  },
  {
   "cell_type": "markdown",
   "metadata": {},
   "source": [
    "### Serializing"
   ]
  },
  {
   "cell_type": "markdown",
   "metadata": {},
   "source": [
    "Now that we have this set up, run `python manage.py shell` from the terminal.  Once inside:"
   ]
  },
  {
   "cell_type": "code",
   "execution_count": null,
   "metadata": {},
   "outputs": [],
   "source": [
    "from snippets.models import Snippet\n",
    "from snippets.serializers import SnippetSerializer\n",
    "from rest_framework.renderers import JSONRenderer\n",
    "from rest_framework.parsers import JSONParser\n",
    "\n",
    "# we'll add some data to play with\n",
    "snippet = Snippet(code='foo = \"bar\"\\n')\n",
    "snippet.save()\n",
    "\n",
    "snippet = Snippet(code='print(\"hello, world\")\\n')\n",
    "snippet.save()"
   ]
  },
  {
   "cell_type": "code",
   "execution_count": null,
   "metadata": {},
   "outputs": [],
   "source": [
    "# now we can see what the serialized output is\n",
    "# this will be Python native datatypes\n",
    "serializer = SnippetSerializer(snippet)\n",
    "serializer.data"
   ]
  },
  {
   "cell_type": "code",
   "execution_count": null,
   "metadata": {},
   "outputs": [],
   "source": [
    "# render to json\n",
    "content = JSONRenderer().render(serializer.data)\n",
    "content"
   ]
  },
  {
   "cell_type": "markdown",
   "metadata": {},
   "source": [
    "### Deserialization"
   ]
  },
  {
   "cell_type": "code",
   "execution_count": null,
   "metadata": {},
   "outputs": [],
   "source": [
    "import io\n",
    "\n",
    "# parse a stream into Python native datatypes\n",
    "stream = io.BytesIO(content)\n",
    "data = JSONParser().parse(stream)"
   ]
  },
  {
   "cell_type": "code",
   "execution_count": null,
   "metadata": {},
   "outputs": [],
   "source": [
    "# restore native datatypes to object instance\n",
    "serializer = SnippetSerializer(data=data)\n",
    "serializer.is_valid()\n",
    "# True\n",
    "serializer.validated_data\n",
    "# OrderedDict([('title', ''), ('code', 'print(\"hello, world\")\\n'), ('linenos', False), ('language', 'python'), ('style', 'friendly')])\n",
    "serializer.save()\n",
    "# <Snippet: Snippet object>"
   ]
  },
  {
   "cell_type": "markdown",
   "metadata": {},
   "source": [
    "### Serializing querysets\n",
    "Add `many=True` to serializer arguments"
   ]
  },
  {
   "cell_type": "code",
   "execution_count": null,
   "metadata": {},
   "outputs": [],
   "source": [
    "serializer = SnippetSerializer(Snippet.objects.all(), many=True)\n",
    "serializer.data\n",
    "# [OrderedDict([('id', 1), ('title', ''), ('code', 'foo = \"bar\"\\n'), ('linenos', False), ('language', 'python'), ('style', 'friendly')]), OrderedDict([('id', 2), ('title', ''), ('code', 'print(\"hello, world\")\\n'), ('linenos', False), ('language', 'python'), ('style', 'friendly')]), OrderedDict([('id', 3), ('title', ''), ('code', 'print(\"hello, world\")'), ('linenos', False), ('language', 'python'), ('style', 'friendly')])]"
   ]
  },
  {
   "cell_type": "markdown",
   "metadata": {},
   "source": [
    "### ModelSerializers\n",
    "`SnippetSerializer` and the `Snippet` model are a little redundant.  REST provides `Serializer` and `ModelSerializer` classes.  We can rewrite `snippets/serializers` by replacing `SnippetsSerializer`"
   ]
  },
  {
   "cell_type": "code",
   "execution_count": null,
   "metadata": {},
   "outputs": [],
   "source": [
    "class SnippetSerializer(serializers.ModelSerializer):\n",
    "    class Meta:\n",
    "        model = Snippet\n",
    "        fields = ['id', 'title', 'code', 'linenos', 'language', 'style']"
   ]
  }
 ],
 "metadata": {
  "kernelspec": {
   "display_name": "Python 3",
   "language": "python",
   "name": "python3"
  },
  "language_info": {
   "codemirror_mode": {
    "name": "ipython",
    "version": 3
   },
   "file_extension": ".py",
   "mimetype": "text/x-python",
   "name": "python",
   "nbconvert_exporter": "python",
   "pygments_lexer": "ipython3",
   "version": "3.8.5"
  }
 },
 "nbformat": 4,
 "nbformat_minor": 4
}
