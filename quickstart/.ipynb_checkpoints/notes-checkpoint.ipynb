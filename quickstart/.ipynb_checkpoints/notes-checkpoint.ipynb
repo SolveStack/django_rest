{
 "cells": [
  {
   "cell_type": "markdown",
   "metadata": {},
   "source": [
    "# Quickstart"
   ]
  },
  {
   "cell_type": "markdown",
   "metadata": {},
   "source": [
    "https://www.django-rest-framework.org/tutorial/quickstart/\n",
    "\n",
    "## Project setup\n",
    "- startproject is run with a . after the project name to put the app in the project directory, but it helps avoid clashes with external module's namespaces\n",
    "\n",
    "## Serializers\n",
    "`HyperlinkedModelSerializer` used instead of primary key and various other relationships - hyperlinking is good RESTful design\n",
    "\n",
    "## Views\n",
    "We group common behavior into classes called `ViewSets`.  These can be very concise and organized.\n",
    "\n",
    "## URLs\n",
    "When using viewsets, we can generate the URL conf for our API by registering viewsets with a router class in `urls.py`\n",
    "- if we need more control over API URLs we can use class-based views and explicitely write URL conf\n",
    "- default login and logout views are added for browsable API\n",
    "\n",
    "## Pagination\n",
    "Determines how many objects per page are returned.  Edit `settings.py`."
   ]
  },
  {
   "cell_type": "markdown",
   "metadata": {},
   "source": [
    "# API access\n",
    "Run the server, then \n",
    "`curl -H 'Accept: application/json; indent=4' -u admin:password123 http://127.0.0.1:8000/users/`\n",
    "or with HTTPie\n",
    "`http -a admin:password123 http://127.0.0.1:8000/users/`\n",
    "or point the browser to\n",
    "http://127.0.0.1:8000/users/"
   ]
  },
  {
   "cell_type": "markdown",
   "metadata": {},
   "source": [
    "# In-depth Tutorial\n",
    "https://www.django-rest-framework.org/tutorial/1-serialization/"
   ]
  },
  {
   "cell_type": "code",
   "execution_count": null,
   "metadata": {},
   "outputs": [],
   "source": []
  }
 ],
 "metadata": {
  "kernelspec": {
   "display_name": "Python 3",
   "language": "python",
   "name": "python3"
  },
  "language_info": {
   "codemirror_mode": {
    "name": "ipython",
    "version": 3
   },
   "file_extension": ".py",
   "mimetype": "text/x-python",
   "name": "python",
   "nbconvert_exporter": "python",
   "pygments_lexer": "ipython3",
   "version": "3.8.5"
  }
 },
 "nbformat": 4,
 "nbformat_minor": 4
}
