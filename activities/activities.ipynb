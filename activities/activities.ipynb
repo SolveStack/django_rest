{
 "cells": [
  {
   "cell_type": "markdown",
   "metadata": {},
   "source": [
    "# Overview\n",
    "Today we'll go over many of the concepts that power the Solvestack's backend code.  Since it uses the Django REST framework, we'll illustrate examples from tutorials from their site along with our Solvestack code.\n",
    "\n",
    "## Our goals\n",
    "1. Review terms\n",
    "1. Review serializers\n",
    "1. Examine class-based views using Django REST\n",
    "1. Examine hyperlinked APIs and other relationship styles\n",
    "1. Show different ways pagination can be used\n",
    "1. Examine view sets and create new ones"
   ]
  },
  {
   "cell_type": "markdown",
   "metadata": {},
   "source": [
    "# General terms review\n",
    "__Pull up the solvestack admin page.  As we work through these, type the answers from the mentees into the glossary terms.__\n",
    "\n",
    "__CLI__\n",
    "\n",
    "Stands for command line interface - programs that are run from your terminal\n",
    "\n",
    "Examples: brew, pip3, manage.py, ls, pwd\n",
    "\n",
    "__IDE__\n",
    "\n",
    "A place to view and edit your code\n",
    "\n",
    "Examples: Visual Studio Code, Atom, JetBrains (various language specific IDEs)\n",
    "\n",
    "__Library__\n",
    "\n",
    "A collection of modules\n",
    "\n",
    "__Module__\n",
    "\n",
    "methods and classes for a purpose that can be used by other code elsewhere\n",
    "\n",
    "Examples: shortuuid\n",
    "\n",
    "__Package__\n",
    "\n",
    "A neat wrapper for installation and easy calling of a library from other code elsewhere\n",
    "Package Manager\n",
    "A tool that easily installs packages for a project OR for your local machine\n",
    "\n",
    "Examples: pip, npm, npx, homebrew\n",
    "\n",
    "__Frontend/GUI/UI__\n",
    "\n",
    "The presentation layer of a given application - what the user sees. Or, GUI, stands for graphical user interface\n",
    "\n",
    "__Backend__\n",
    "\n",
    "The business logic layer that interacts with the database layer and serves the data to external clients\n",
    "\n",
    "__Request__\n",
    "\n",
    "Client sends this message to the web server to accomplish tasks.\n",
    "\n",
    "__Response__\n",
    "\n",
    "Web server gives this message to let the client know the result and the status of their task.\n",
    "\n",
    "__API__\n",
    "\n",
    "Stands for application programming interface. Fundamental way of interaction between two systems or two libraries, and more.\n",
    "\n",
    "__Framework__\n",
    "\n",
    "A collection of packages and tooling that make life easier when coding for a specific purpose\n",
    "\n",
    "Examples: React, Vue, Django, Django REST Framework\n",
    "\n",
    "__Database__\n",
    "\n",
    "Place to store all records and write records to in an organized and optimized way\n",
    "\n",
    "Examples: SQLite, MySQL, PostgreSQL, MongoDB\n",
    "\n",
    "__Web Server__\n",
    "\n",
    "The program used to broadcast our code on a given port and address.\n",
    "\n",
    "Example: localhost is the address of our machine, and 3000 is the default address for React and other frontends\n",
    "\n",
    "__Client__\n",
    "\n",
    "A program or API used to receive the data broadcasted by the web server\n",
    "\n",
    "Examples: a browser like Chrome/Mozilla/Safari, or Postman client, or a client in a given language like Python or Axios is a commonly used client in JS\n",
    "\n",
    "__Physical Server__\n",
    "\n",
    "The physical machine that runs the web server and can house a database and your files that contain your code.\n",
    "\n",
    "Examples: your laptop, a server in a datacenter\n",
    "\n",
    "__Frontend Component__\n",
    "\n",
    "A template to generate HTML that’s reusable\n",
    "\n",
    "__SQL__\n",
    "\n",
    "SQL is a standard language for storing, manipulating and retrieving data in relational databases.\n",
    "\n",
    "__IDE__\n",
    "\n",
    "Integrated Development Environment - a fancy name for a fancy code editor\n",
    "\n",
    "Examples: VSCode\n",
    "\n",
    "__Virtual Environment__\n",
    "\n",
    "An isolated location so that each project can have its own dependencies, regardless of what dependencies every other project has.\n",
    "\n",
    "__Protocol__\n",
    "\n",
    "Standard structure of network requests and responses on the web that the whole world has agreed upon\n",
    "\n",
    "Examples usually end in “protocol”:\n",
    "HTTP, HTTPS, RDP (Remote Desktop Protocol to get into a Windows Server), NTP (Network Time Protocol)\n",
    "\n",
    "__Contract__\n",
    "\n",
    "Specifications the developer makes for an API to adhere to in order to provide consistency for downstream stakeholders of the API.\n",
    "\n",
    "\n",
    "__Future__\n",
    "\n",
    "DNS\n",
    "Hostsfile\n"
   ]
  },
  {
   "cell_type": "markdown",
   "metadata": {},
   "source": [
    "# Django REST terms review\n",
    "\n",
    "__Url resources endpoint__\n",
    "\n",
    "Defines the viewset used and the endpoint used\n",
    "\n",
    "__Viewset__\n",
    "\n",
    "Defines our filters for the resources and all the HTTP actions we want to use (“GET”, “POST”, “PUT”, “PATCH”, and “DELETE”\n",
    "\n",
    "Gives response codes and JSON from the serializer into the response body.\n",
    "\n",
    "__Serializer__\n",
    "\n",
    "Example for POST action:\n",
    "Deserializes our JSON input from our request body into the ORM equivalent for writing actions - and response serializes the newly created resource from our ORM back into JSON response.\n",
    "\n",
    "__ORM__\n",
    "\n",
    "Object Representation Model - Django’s way of interfacing (API) between the database and our Python code.\n",
    "\n",
    "Is used by both Django framework for server side rendering web development AND Django REST Framework libs\n",
    "\n",
    "__Manager / Queryset__\n",
    "\n",
    "Manages the objects of a model type and has handy ways to query the database or manipulate querysets and save them to the database. The manager is the standard queryset you start from before adding filters and exclusions, etc.\n",
    "\n",
    "Django starts you out with its standard manager but we can extend it to prefetch_related or select_related fields. \n",
    "\n",
    "__Model__\n",
    "\n",
    "Blueprint for Django objects that are able to be saved and loaded from the database.\n",
    "\n",
    "Generates migrations to create tables and define their columns for storage.\n",
    "\n",
    "__Migrations__\n",
    "\n",
    "Easy blueprints for manipulating the structure of the database and its tables\n",
    "\n",
    "\n",
    "__Primary Key__\n",
    "\n",
    "The main way to identify a given record or model\n"
   ]
  },
  {
   "cell_type": "markdown",
   "metadata": {},
   "source": [
    "# Serializer review\n",
    "We use serialization to convert our data to JSON.\n",
    "- Show `snippets/serializers.py` code\n",
    "- Explain how this is similar to Django's forms\n",
    "- Show serialization in solvestack at `glossary/serializers.py`\n",
    "\n",
    "## Goals\n",
    "- look at serializers class of rest_framework\n",
    "    - field types, serializers.Serializer\n",
    "- understand imports of snippets.models (`Snippet`, `LANGUAGE_CHOICES`, `STYLE_CHOICES`)\n",
    "\n",
    "## Activities\n",
    "- Run some shell commands on tutorial db\n",
    "- Run some shell commands on solvestack db"
   ]
  },
  {
   "cell_type": "markdown",
   "metadata": {},
   "source": [
    "### Tutorial serializer demo\n",
    "- Run tutorial server with `python manage.py runserver`\n",
    "- Show the admin site [here](http://127.0.0.1:8000/admin/), view the snippets we have loaded\n",
    "- Open Postman to make API requests and show serialization of data we just looked at"
   ]
  },
  {
   "cell_type": "code",
   "execution_count": null,
   "metadata": {},
   "outputs": [],
   "source": [
    "# solvestack serializer\n",
    "from rest_framework import serializers\n",
    "\n",
    "from solvestack.glossary.models import Term\n",
    "\n",
    "\n",
    "class TermSerializer(serializers.ModelSerializer):\n",
    "    class Meta:\n",
    "        model = Term\n",
    "        fields = [\"id\", \"name\", \"definition\"]\n",
    "        read_only_fields = [\"id\"]"
   ]
  },
  {
   "cell_type": "markdown",
   "metadata": {},
   "source": [
    "### Solvestack serializer demo\n",
    "- Run solvestack server with `python manage.py runserver`\n",
    "- Show the admin site [here](http://127.0.0.1:8000/admin/), view the terms we have loaded\n",
    "- Open Postman to make API requests and show serialization of data we just looked at: run a GET on `http://127.0.0.1:8000/terms/`\n",
    "\n",
    "Output from initial JSON fixture import:\n",
    "```\n",
    "[\n",
    "    {\n",
    "        \"id\": \"6LWr7wMsmk6rdgvoA9W3dG\",\n",
    "        \"name\": \"frontend\",\n",
    "        \"definition\": \"presentation layer\"\n",
    "    },\n",
    "    {\n",
    "        \"id\": \"8JdHcDARgHG9H6CHJEYCwD\",\n",
    "        \"name\": \"backend\",\n",
    "        \"definition\": \"business logic and database access layer\"\n",
    "    }\n",
    "]\n",
    "```"
   ]
  },
  {
   "cell_type": "markdown",
   "metadata": {},
   "source": [
    "# Class-based views\n",
    "## Goals\n",
    "- Understand what features mixin classes provide\n",
    "- Understand how classes can be refactored with already mixed-in generic class-based views\n",
    "\n",
    "## Activities\n",
    "- \n",
    "Mixins added classes in `snippets/views.py`:"
   ]
  },
  {
   "cell_type": "code",
   "execution_count": null,
   "metadata": {},
   "outputs": [],
   "source": [
    "from snippets.models import Snippet\n",
    "from snippets.serializers import SnippetSerializer\n",
    "from rest_framework import mixins\n",
    "from rest_framework import generics\n",
    "\n",
    "class SnippetList(mixins.ListModelMixin,\n",
    "                  mixins.CreateModelMixin,\n",
    "                  generics.GenericAPIView):\n",
    "    queryset = Snippet.objects.all()\n",
    "    serializer_class = SnippetSerializer\n",
    "\n",
    "    def get(self, request, *args, **kwargs):\n",
    "        return self.list(request, *args, **kwargs)\n",
    "\n",
    "    def post(self, request, *args, **kwargs):\n",
    "        return self.create(request, *args, **kwargs)"
   ]
  },
  {
   "cell_type": "markdown",
   "metadata": {},
   "source": [
    "Using already mixed-in generic class-based view from `snippets/views.py`:"
   ]
  },
  {
   "cell_type": "code",
   "execution_count": null,
   "metadata": {},
   "outputs": [],
   "source": [
    "from snippets.models import Snippet\n",
    "from snippets.serializers import SnippetSerializer\n",
    "from rest_framework import generics\n",
    "\n",
    "\n",
    "class SnippetList(generics.ListCreateAPIView):\n",
    "    queryset = Snippet.objects.all()\n",
    "    serializer_class = SnippetSerializer\n",
    "\n",
    "class SnippetDetail(generics.RetrieveUpdateDestroyAPIView):\n",
    "    queryset = Snippet.objects.all()\n",
    "    serializer_class = SnippetSerializer"
   ]
  },
  {
   "cell_type": "markdown",
   "metadata": {},
   "source": [
    "Solvestack code from `glossary/views.py` uses a viewset, which we'll talk about later."
   ]
  },
  {
   "cell_type": "markdown",
   "metadata": {},
   "source": [
    "# More about serialization and relationships\n",
    "Django REST supports many different types of relationships between data.  Here are some examples:\n",
    "- Using primary keys\n",
    "- Using hyperlinking between entities\n",
    "- Using a unique identifying slug field on the related entity\n",
    "- Using the default string representation of the related entity\n",
    "- Nesting the related entity inside the parent representation\n",
    "- Some other custom representation\n",
    "\n",
    "## Goals\n",
    "- Understand differences between `ModelSerializer` and `HyperLinkedModelSerializer`\n",
    "    - Tie this to previous lessons on serializers (review videos)\n",
    "- Show other relationship styles\n",
    "\n",
    "## Activities\n",
    "- Implement a different relationship style"
   ]
  },
  {
   "cell_type": "code",
   "execution_count": null,
   "metadata": {},
   "outputs": [],
   "source": [
    "# tutorial serializer w/o models\n",
    "from rest_framework import serializers\n",
    "from snippets.models import Snippet, LANGUAGE_CHOICES, STYLE_CHOICES\n",
    "\n",
    "\n",
    "class SnippetSerializer(serializers.Serializer):\n",
    "    id = serializers.IntegerField(read_only=True)\n",
    "    title = serializers.CharField(required=False, allow_blank=True, max_length=100)\n",
    "    code = serializers.CharField(style={'base_template': 'textarea.html'})\n",
    "    linenos = serializers.BooleanField(required=False)\n",
    "    language = serializers.ChoiceField(choices=LANGUAGE_CHOICES, default='python')\n",
    "    style = serializers.ChoiceField(choices=STYLE_CHOICES, default='friendly')\n",
    "\n",
    "    def create(self, validated_data):\n",
    "        \"\"\"\n",
    "        Create and return a new `Snippet` instance, given the validated data.\n",
    "        \"\"\"\n",
    "        return Snippet.objects.create(**validated_data)\n",
    "\n",
    "    def update(self, instance, validated_data):\n",
    "        \"\"\"\n",
    "        Update and return an existing `Snippet` instance, given the validated data.\n",
    "        \"\"\"\n",
    "        instance.title = validated_data.get('title', instance.title)\n",
    "        instance.code = validated_data.get('code', instance.code)\n",
    "        instance.linenos = validated_data.get('linenos', instance.linenos)\n",
    "        instance.language = validated_data.get('language', instance.language)\n",
    "        instance.style = validated_data.get('style', instance.style)\n",
    "        instance.save()\n",
    "        return instance"
   ]
  },
  {
   "cell_type": "markdown",
   "metadata": {},
   "source": [
    "`snippets/serializers.py` with `ModelSerializer`:"
   ]
  },
  {
   "cell_type": "code",
   "execution_count": null,
   "metadata": {},
   "outputs": [],
   "source": [
    "class SnippetSerializer(serializers.ModelSerializer):\n",
    "    owner = serializers.ReadOnlyField(source='owner.username')\n",
    "    class Meta:\n",
    "        model = Snippet\n",
    "        fields = ['id', 'title', 'code', 'linenos', 'language', 'style', 'owner',]"
   ]
  },
  {
   "cell_type": "markdown",
   "metadata": {},
   "source": [
    "from `snippets/serializers.py` with `HyperLinkedModelSeralizer`:"
   ]
  },
  {
   "cell_type": "code",
   "execution_count": null,
   "metadata": {},
   "outputs": [],
   "source": [
    "class SnippetSerializer(serializers.HyperlinkedModelSerializer):\n",
    "    owner = serializers.ReadOnlyField(source='owner.username')\n",
    "    highlight = serializers.HyperlinkedIdentityField(view_name='snippet-highlight', format='html')\n",
    "\n",
    "    class Meta:\n",
    "        model = Snippet\n",
    "        fields = ['url', 'id', 'highlight', 'owner',\n",
    "                  'title', 'code', 'linenos', 'language', 'style']\n",
    "\n",
    "\n",
    "class UserSerializer(serializers.HyperlinkedModelSerializer):\n",
    "    snippets = serializers.HyperlinkedRelatedField(many=True, view_name='snippet-detail', read_only=True)\n",
    "\n",
    "    class Meta:\n",
    "        model = User\n",
    "        fields = ['url', 'id', 'username', 'snippets']"
   ]
  },
  {
   "cell_type": "markdown",
   "metadata": {},
   "source": [
    "`ModelSerializer` classes are a shortcut for creating serializer classes:\n",
    "- automatically determined set of fields\n",
    "- simple `create()` and `update()` methods are implemented for you\n",
    "\n",
    "Solvestack's `glossary/serializers.py` with `ModelSerializer`:"
   ]
  },
  {
   "cell_type": "code",
   "execution_count": null,
   "metadata": {},
   "outputs": [],
   "source": [
    "from rest_framework import serializers\n",
    "\n",
    "from solvestack.glossary.models import Term\n",
    "\n",
    "\n",
    "class TermSerializer(serializers.ModelSerializer):\n",
    "    class Meta:\n",
    "        model = Term\n",
    "        fields = [\"id\", \"name\", \"definition\"]\n",
    "        read_only_fields = [\"id\"]"
   ]
  },
  {
   "cell_type": "markdown",
   "metadata": {},
   "source": [
    "# Pagination\n",
    "## Goals\n",
    "- Understand the REST_FRAMEWORK dictionary in `tutorial/settings.py`\n",
    "- Understand how PageNumberPagination class works\n",
    "\n",
    "## Activities\n",
    "- Look at other pagination classes and show how they work\n",
    "\n",
    "Tutorial's `settings.py`:"
   ]
  },
  {
   "cell_type": "code",
   "execution_count": null,
   "metadata": {},
   "outputs": [],
   "source": [
    "REST_FRAMEWORK = {\n",
    "    'DEFAULT_PAGINATION_CLASS': 'rest_framework.pagination.PageNumberPagination',\n",
    "    'PAGE_SIZE': 10\n",
    "}"
   ]
  },
  {
   "cell_type": "markdown",
   "metadata": {},
   "source": [
    "Solvestack's `solvestack/settings.py`:"
   ]
  },
  {
   "cell_type": "code",
   "execution_count": null,
   "metadata": {},
   "outputs": [],
   "source": [
    "REST_FRAMEWORK = {\n",
    "    \"DEFAULT_FILTER_BACKENDS\": (\"django_filters.rest_framework.DjangoFilterBackend\",)\n",
    "}"
   ]
  },
  {
   "cell_type": "markdown",
   "metadata": {},
   "source": [
    "# Viewset Exercises\n",
    "## Goals\n",
    "- import statements (`viewsets`, `action`, `Response`)\n",
    "- understand what actions `ReadOnlyModelViewSet` provides\n",
    "- understand what actions `ModelViewSet` provides\n",
    "- show other viewset classes\n",
    "- show code needed for manual urls\n",
    "- understand how routers work to handle URLConf with router with DefaultRouter().urls\n",
    "- show other router classes\n",
    "\n",
    "## Activities\n",
    "- create a new viewset with this information that adds to the tutorial code\n",
    "From `snippets/views.py`:"
   ]
  },
  {
   "cell_type": "code",
   "execution_count": null,
   "metadata": {},
   "outputs": [],
   "source": [
    "from rest_framework import viewsets\n",
    "from rest_framework.decorators import action\n",
    "from rest_framework.response import Response\n",
    "\n",
    "class UserViewSet(viewsets.ReadOnlyModelViewSet):\n",
    "    \"\"\"\n",
    "    This viewset automatically provides `list` and `detail` actions.\n",
    "    \"\"\"\n",
    "    queryset = User.objects.all()\n",
    "    serializer_class = UserSerializer\n",
    "\n",
    "class SnippetViewSet(viewsets.ModelViewSet):\n",
    "    \"\"\"\n",
    "    This viewset automatically provides `list`, `create`, `retrieve`,\n",
    "    `update` and `destroy` actions.\n",
    "\n",
    "    Additionally we also provide an extra `highlight` action.\n",
    "    \"\"\"\n",
    "    queryset = Snippet.objects.all()\n",
    "    serializer_class = SnippetSerializer\n",
    "    permission_classes = [permissions.IsAuthenticatedOrReadOnly,\n",
    "                          IsOwnerOrReadOnly]\n",
    "\n",
    "    @action(detail=True, renderer_classes=[renderers.StaticHTMLRenderer])\n",
    "    def highlight(self, request, *args, **kwargs):\n",
    "        snippet = self.get_object()\n",
    "        return Response(snippet.highlighted)\n",
    "\n",
    "    def perform_create(self, serializer):\n",
    "        serializer.save(owner=self.request.user)"
   ]
  },
  {
   "cell_type": "markdown",
   "metadata": {},
   "source": [
    "from `snippets/urls.py`:"
   ]
  },
  {
   "cell_type": "code",
   "execution_count": null,
   "metadata": {},
   "outputs": [],
   "source": [
    "from django.urls import path, include\n",
    "from rest_framework.routers import DefaultRouter\n",
    "from snippets import views\n",
    "\n",
    "# Create a router and register our viewsets with it.\n",
    "router = DefaultRouter()\n",
    "router.register(r'snippets', views.SnippetViewSet)\n",
    "router.register(r'users', views.UserViewSet)\n",
    "\n",
    "# The API URLs are now determined automatically by the router.\n",
    "urlpatterns = [\n",
    "    path('', include(router.urls)),\n",
    "]"
   ]
  },
  {
   "cell_type": "markdown",
   "metadata": {},
   "source": [
    "Solvestack's `glossary/views.py`:"
   ]
  },
  {
   "cell_type": "code",
   "execution_count": null,
   "metadata": {},
   "outputs": [],
   "source": [
    "from rest_framework import viewsets\n",
    "\n",
    "from .serializers import TermSerializer\n",
    "from .models import Term\n",
    "from .filters import TermsFilter\n",
    "\n",
    "\n",
    "class TermViewSet(viewsets.ModelViewSet):\n",
    "    queryset = Term.objects.all()\n",
    "    serializer_class = TermSerializer\n",
    "    filter_class = TermsFilter"
   ]
  },
  {
   "cell_type": "markdown",
   "metadata": {},
   "source": [
    "Solvestack's `glossary/urls.py`:"
   ]
  },
  {
   "cell_type": "code",
   "execution_count": null,
   "metadata": {},
   "outputs": [],
   "source": [
    "from rest_framework import routers\n",
    "\n",
    "from django.contrib import admin\n",
    "from django.urls import path, include\n",
    "\n",
    "from solvestack.glossary import views\n",
    "\n",
    "router = routers.DefaultRouter()\n",
    "router.register(\"terms\", views.TermViewSet)\n",
    "\n",
    "urlpatterns = [\n",
    "    path(\"\", include(router.urls)),\n",
    "    path(\"admin/\", admin.site.urls),\n",
    "]"
   ]
  }
 ],
 "metadata": {
  "kernelspec": {
   "display_name": "Python 3",
   "language": "python",
   "name": "python3"
  },
  "language_info": {
   "codemirror_mode": {
    "name": "ipython",
    "version": 3
   },
   "file_extension": ".py",
   "mimetype": "text/x-python",
   "name": "python",
   "nbconvert_exporter": "python",
   "pygments_lexer": "ipython3",
   "version": "3.7.3"
  }
 },
 "nbformat": 4,
 "nbformat_minor": 4
}
