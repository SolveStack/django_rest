{
 "cells": [
  {
   "cell_type": "markdown",
   "metadata": {},
   "source": [
    "# Class-based views\n",
    "Goals\n",
    "- Understand what features mixin classes provide\n",
    "- Understand how classes can be refactored with already mixed-in generic class-based views\n",
    "\n",
    "Mixins added classes in `snippets/views.py`:"
   ]
  },
  {
   "cell_type": "code",
   "execution_count": null,
   "metadata": {},
   "outputs": [],
   "source": [
    "from snippets.models import Snippet\n",
    "from snippets.serializers import SnippetSerializer\n",
    "from rest_framework import mixins\n",
    "from rest_framework import generics\n",
    "\n",
    "class SnippetList(mixins.ListModelMixin,\n",
    "                  mixins.CreateModelMixin,\n",
    "                  generics.GenericAPIView):\n",
    "    queryset = Snippet.objects.all()\n",
    "    serializer_class = SnippetSerializer\n",
    "\n",
    "    def get(self, request, *args, **kwargs):\n",
    "        return self.list(request, *args, **kwargs)\n",
    "\n",
    "    def post(self, request, *args, **kwargs):\n",
    "        return self.create(request, *args, **kwargs)"
   ]
  },
  {
   "cell_type": "markdown",
   "metadata": {},
   "source": [
    "Using already mixed-in generic class-based view from `snippets/views.py`:"
   ]
  },
  {
   "cell_type": "code",
   "execution_count": null,
   "metadata": {},
   "outputs": [],
   "source": [
    "from snippets.models import Snippet\n",
    "from snippets.serializers import SnippetSerializer\n",
    "from rest_framework import generics\n",
    "\n",
    "\n",
    "class SnippetList(generics.ListCreateAPIView):\n",
    "    queryset = Snippet.objects.all()\n",
    "    serializer_class = SnippetSerializer\n",
    "\n",
    "class SnippetDetail(generics.RetrieveUpdateDestroyAPIView):\n",
    "    queryset = Snippet.objects.all()\n",
    "    serializer_class = SnippetSerializer"
   ]
  },
  {
   "cell_type": "markdown",
   "metadata": {},
   "source": [
    "# Hyperlinked APIs\n",
    "Goals\n",
    "- Understand differences between `ModelSerializer` and `HyperLinkedModelSerializer`\n",
    "    - Tie this to previous lessons on serializers (review videos)\n",
    "- Show other relationship styles\n",
    "- Implement a different relationship style\n",
    "\n",
    "from `snippets/seralizers.py` with `HyperLinkedModelSeralizer`:"
   ]
  },
  {
   "cell_type": "code",
   "execution_count": null,
   "metadata": {},
   "outputs": [],
   "source": [
    "class SnippetSerializer(serializers.HyperlinkedModelSerializer):\n",
    "    owner = serializers.ReadOnlyField(source='owner.username')\n",
    "    highlight = serializers.HyperlinkedIdentityField(view_name='snippet-highlight', format='html')\n",
    "\n",
    "    class Meta:\n",
    "        model = Snippet\n",
    "        fields = ['url', 'id', 'highlight', 'owner',\n",
    "                  'title', 'code', 'linenos', 'language', 'style']\n",
    "\n",
    "\n",
    "class UserSerializer(serializers.HyperlinkedModelSerializer):\n",
    "    snippets = serializers.HyperlinkedRelatedField(many=True, view_name='snippet-detail', read_only=True)\n",
    "\n",
    "    class Meta:\n",
    "        model = User\n",
    "        fields = ['url', 'id', 'username', 'snippets']"
   ]
  },
  {
   "cell_type": "markdown",
   "metadata": {},
   "source": [
    "`snippets/serializers.py` with `ModelSerializer`:"
   ]
  },
  {
   "cell_type": "code",
   "execution_count": null,
   "metadata": {},
   "outputs": [],
   "source": [
    "class SnippetSerializer(serializers.ModelSerializer):\n",
    "    owner = serializers.ReadOnlyField(source='owner.username')\n",
    "    class Meta:\n",
    "        model = Snippet\n",
    "        fields = ['id', 'title', 'code', 'linenos', 'language', 'style', 'owner',]"
   ]
  },
  {
   "cell_type": "markdown",
   "metadata": {},
   "source": [
    "# Pagination\n",
    "Goals\n",
    "- Understand the REST_FRAMEWORK dictionary in `tutorial/settings.py`\n",
    "- Understand how PageNumberPagination class works\n",
    "- Look at other pagination classes and show how they work"
   ]
  },
  {
   "cell_type": "code",
   "execution_count": null,
   "metadata": {},
   "outputs": [],
   "source": [
    "REST_FRAMEWORK = {\n",
    "    'DEFAULT_PAGINATION_CLASS': 'rest_framework.pagination.PageNumberPagination',\n",
    "    'PAGE_SIZE': 10\n",
    "}"
   ]
  },
  {
   "cell_type": "markdown",
   "metadata": {},
   "source": [
    "# Viewset Exercises\n",
    "From the tutorial, make sure you understand\n",
    "- import statements (`viewsets`, `action`, `Response`)\n",
    "- understand what actions `ReadOnlyModelViewSet` provides\n",
    "- understand what actions `ModelViewSet` provides\n",
    "- show other viewset classes\n",
    "- show code needed for manual urls\n",
    "- understand how routers work to handle URLConf with router with DefaultRouter().urls\n",
    "- show other router classes\n",
    "- create a new viewset with this information that adds to the tutorial code\n",
    "From `snippets/views.py`:"
   ]
  },
  {
   "cell_type": "code",
   "execution_count": null,
   "metadata": {},
   "outputs": [],
   "source": [
    "from rest_framework import viewsets\n",
    "from rest_framework.decorators import action\n",
    "from rest_framework.response import Response\n",
    "\n",
    "class UserViewSet(viewsets.ReadOnlyModelViewSet):\n",
    "    \"\"\"\n",
    "    This viewset automatically provides `list` and `detail` actions.\n",
    "    \"\"\"\n",
    "    queryset = User.objects.all()\n",
    "    serializer_class = UserSerializer\n",
    "\n",
    "class SnippetViewSet(viewsets.ModelViewSet):\n",
    "    \"\"\"\n",
    "    This viewset automatically provides `list`, `create`, `retrieve`,\n",
    "    `update` and `destroy` actions.\n",
    "\n",
    "    Additionally we also provide an extra `highlight` action.\n",
    "    \"\"\"\n",
    "    queryset = Snippet.objects.all()\n",
    "    serializer_class = SnippetSerializer\n",
    "    permission_classes = [permissions.IsAuthenticatedOrReadOnly,\n",
    "                          IsOwnerOrReadOnly]\n",
    "\n",
    "    @action(detail=True, renderer_classes=[renderers.StaticHTMLRenderer])\n",
    "    def highlight(self, request, *args, **kwargs):\n",
    "        snippet = self.get_object()\n",
    "        return Response(snippet.highlighted)\n",
    "\n",
    "    def perform_create(self, serializer):\n",
    "        serializer.save(owner=self.request.user)"
   ]
  },
  {
   "cell_type": "markdown",
   "metadata": {},
   "source": [
    "from `snippets/urls.py`:"
   ]
  },
  {
   "cell_type": "code",
   "execution_count": null,
   "metadata": {},
   "outputs": [],
   "source": [
    "from django.urls import path, include\n",
    "from rest_framework.routers import DefaultRouter\n",
    "from snippets import views\n",
    "\n",
    "# Create a router and register our viewsets with it.\n",
    "router = DefaultRouter()\n",
    "router.register(r'snippets', views.SnippetViewSet)\n",
    "router.register(r'users', views.UserViewSet)\n",
    "\n",
    "# The API URLs are now determined automatically by the router.\n",
    "urlpatterns = [\n",
    "    path('', include(router.urls)),\n",
    "]"
   ]
  }
 ],
 "metadata": {
  "kernelspec": {
   "display_name": "Python 3",
   "language": "python",
   "name": "python3"
  },
  "language_info": {
   "codemirror_mode": {
    "name": "ipython",
    "version": 3
   },
   "file_extension": ".py",
   "mimetype": "text/x-python",
   "name": "python",
   "nbconvert_exporter": "python",
   "pygments_lexer": "ipython3",
   "version": "3.8.5"
  }
 },
 "nbformat": 4,
 "nbformat_minor": 4
}
