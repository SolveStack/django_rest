{
 "cells": [
  {
   "cell_type": "markdown",
   "metadata": {},
   "source": [
    "# Overview\n",
    "Today we'll go over many of the concepts that power the Solvestack's backend code.  Since it uses the Django REST framework, we'll illustrate examples from tutorials from their site along with our Solvestack code.\n",
    "\n",
    "## Our goals\n",
    "1. Review terms\n",
    "1. Review serializers\n",
    "1. Explain differences between Django and Django REST\n",
    "1. Examine class-based views using Django REST\n",
    "1. Examine hyperlinked APIs and other relationship styles\n",
    "1. Show different ways pagination can be used\n",
    "1. Examine view sets and create new ones\n",
    "\n",
    "## Helpful links\n",
    "https://github.com/SolveStack/solvestack_backend\n",
    "\n",
    "https://www.django-rest-framework.org"
   ]
  },
  {
   "cell_type": "markdown",
   "metadata": {},
   "source": [
    "# General terms review\n",
    "\n",
    "__CLI__\n",
    "\n",
    "__IDE__\n",
    "\n",
    "__Library__\n",
    "\n",
    "\n",
    "__Module__\n",
    "\n",
    "__Package__\n",
    "\n",
    "__Frontend/GUI/UI__\n",
    "\n",
    "__Backend__\n",
    "\n",
    "__Request__\n",
    "\n",
    "__Response__\n",
    "\n",
    "__API__\n",
    "\n",
    "__Framework__\n",
    "\n",
    "__Database__\n",
    "\n",
    "__Web Server__\n",
    "\n",
    "__Client__\n",
    "\n",
    "__Physical Server__\n",
    "\n",
    "__Frontend Component__\n",
    "\n",
    "__SQL__\n",
    "\n",
    "__IDE__\n",
    "\n",
    "__Virtual Environment__\n",
    "\n",
    "__Protocol__\n",
    "\n",
    "__Contract__\n",
    "\n",
    "__Future__\n"
   ]
  },
  {
   "cell_type": "markdown",
   "metadata": {},
   "source": [
    "# Django REST terms review\n",
    "\n",
    "__Url resources endpoint__\n",
    "\n",
    "__Viewset__\n",
    "\n",
    "__Serializer__\n",
    "\n",
    "__ORM__\n",
    "\n",
    "__Manager / Queryset__\n",
    "\n",
    "__Model__\n",
    "\n",
    "__Migrations__\n",
    "\n",
    "__Primary Key__\n"
   ]
  },
  {
   "cell_type": "markdown",
   "metadata": {},
   "source": [
    "# Serializer review\n",
    "We use serialization to convert our data to JSON currently, but they have many uses.  From [Django REST](https://www.django-rest-framework.org/api-guide/serializers/):\n",
    "\n",
    "> _\"Serializers allow complex data such as querysets and model instances to be converted to native Python datatypes that can then be easily rendered into JSON, XML or other content types. Serializers also provide deserialization, allowing parsed data to be converted back into complex types, after first validating the incoming data.\"_\n",
    "\n",
    "## Goals\n",
    "- Look at serializers class of rest_framework tutorial\n",
    "    - Show `snippets/serializers.py` code\n",
    "    - field types, serializers.Serializer\n",
    "- Understand imports of snippets.models (`Snippet`, `LANGUAGE_CHOICES`, `STYLE_CHOICES`)\n",
    "- Show serialization in solvestack at `glossary/serializers.py`"
   ]
  },
  {
   "cell_type": "markdown",
   "metadata": {},
   "source": [
    "### Tutorial serializer demo\n",
    "- Run tutorial server with `python manage.py runserver`\n",
    "- View the admin site [here](http://127.0.0.1:8000/snippets/), view the snippets that have been loaded\n",
    "- Open Postman to make API requests and show serialization of data we just looked at - run a GET on `http://127.0.0.1:8000/snippets/`\n",
    "    - Note the `count`, `next`, `previous`, and `results` fields!  We'll talk about that later."
   ]
  },
  {
   "cell_type": "markdown",
   "metadata": {},
   "source": [
    "### Solvestack serializer demo"
   ]
  },
  {
   "cell_type": "code",
   "execution_count": null,
   "metadata": {},
   "outputs": [],
   "source": [
    "# solvestack serializer\n",
    "from rest_framework import serializers\n",
    "\n",
    "from solvestack.glossary.models import Term\n",
    "\n",
    "\n",
    "class TermSerializer(serializers.ModelSerializer):\n",
    "    class Meta:\n",
    "        model = Term\n",
    "        fields = [\"id\", \"name\", \"definition\"]\n",
    "        read_only_fields = [\"id\"]"
   ]
  },
  {
   "cell_type": "markdown",
   "metadata": {},
   "source": [
    "- Run solvestack server with `python manage.py runserver`\n",
    "- Show the admin site [here](http://127.0.0.1:8000/admin/), view the terms we have loaded\n",
    "- Open Postman to make API requests and show serialization of data we just looked at: run a GET on `http://127.0.0.1:8000/terms/`\n",
    "\n",
    "Sample output from initial JSON fixture import:\n",
    "```\n",
    "[\n",
    "    {\n",
    "        \"id\": \"6LWr7wMsmk6rdgvoA9W3dG\",\n",
    "        \"name\": \"frontend\",\n",
    "        \"definition\": \"presentation layer\"\n",
    "    },\n",
    "    {\n",
    "        \"id\": \"8JdHcDARgHG9H6CHJEYCwD\",\n",
    "        \"name\": \"backend\",\n",
    "        \"definition\": \"business logic and database access layer\"\n",
    "    }\n",
    "]\n",
    "```"
   ]
  },
  {
   "cell_type": "markdown",
   "metadata": {},
   "source": [
    "# Django vs Django REST\n",
    "What is the difference betweeen Django and Django REST?\n",
    "\n",
    "- Django is used as the base for our backend code.  It provides the structure needed for the backend with supporting files such as `views.py`, `urls.py`, and `models.py`\n",
    "- Django REST adds useful abstractions that speed up things like authentication, serializing/deserializing, routing URLs, etc"
   ]
  },
  {
   "cell_type": "markdown",
   "metadata": {},
   "source": [
    "# Setting up our workspace\n",
    "## Pulling down code from github\n",
    "- Create a new folder to store today's code.  Navigate to this folder through the terminal with `cd <folder path>`\n",
    "- We're going to look at two code bases:\n",
    "    1. The tutorials starting at https://www.django-rest-framework.org/tutorial/quickstart/ \n",
    "    1. Solvestack backend code at https://github.com/SolveStack/solvestack_backend\n",
    "- To pull down both of these, you must have git installed.  \n",
    "    1. In the new folder you created, type `git clone https://github.com/SolveStack/solvestack_backend`\n",
    "    1. When that finishes, get the second code repo with `git clone https://github.com/SolveStack/django_rest`\n",
    "    \n",
    "- You will now have two new folders in the folder you created - `django_rest` and `solvestack_backend`\n",
    "\n",
    "- The notes we are currently viewing are in `django_rest/activities/activities.html`\n",
    "\n",
    "## Set up virtual environment\n",
    "Now we need to make sure we have the frameworks needed in our Python virtual environment\n",
    "- go to the root of the folder you created in the terminal, where both `django_rest` and `solvestack_backend` folders are visible\n",
    "- type `mkdir env`\n",
    "- type `python3 -m venv <folder path>/env`\n",
    "- type `source env/bin/activate` (Mac/Linux) or `env/Scripts/activate` (Windows) to activate the environment\n",
    "- type `cd solvestack_backend` and then:\n",
    "```\n",
    "pip3 install -r dev-requirements.txt\n",
    "pip3 install -r requirements.txt\n",
    "```\n",
    "\n",
    "## Loading data into solvestack backend\n",
    "To do the initial data load and setup, our solvestack code reads in a JSON file.  We need to get that going to give us a solid base to build on.\n",
    "```\n",
    "python3 manage.py migrate\n",
    "python3 manage.py loaddata solvestack/fixtures/glossary.json\n",
    "```\n",
    "\n",
    "## Loading data into Django REST tutorial\n",
    "- Navigate to the root of the project, and then type `cd django_rest/tutorial`\n",
    "- Type `python manage.py migrate`\n",
    "- Type `python manage.py createsuperuser` and use default options\n",
    "\n",
    "## Running code\n",
    "`python3 manage.py runserver`"
   ]
  },
  {
   "cell_type": "markdown",
   "metadata": {},
   "source": [
    "## Folder structure\n",
    "```\n",
    ".\n",
    "├── django_rest\n",
    "│   ├── README.md\n",
    "│   ├── activities\n",
    "│   │   ├── activities.html\n",
    "│   │   └── activities.ipynb\n",
    "│   ├── notes.html\n",
    "│   ├── notes.ipynb\n",
    "│   ├── quickstart\n",
    "│   │   ├── manage.py\n",
    "│   │   └── tutorial\n",
    "│   │       ├── __init__.py\n",
    "│   │       ├── asgi.py\n",
    "│   │       ├── quickstart\n",
    "│   │       │   ├── __init__.py\n",
    "│   │       │   ├── admin.py\n",
    "│   │       │   ├── apps.py\n",
    "│   │       │   ├── migrations\n",
    "│   │       │   │   └── __init__.py\n",
    "│   │       │   ├── models.py\n",
    "│   │       │   ├── serializers.py\n",
    "│   │       │   ├── tests.py\n",
    "│   │       │   └── views.py\n",
    "│   │       ├── settings.py\n",
    "│   │       ├── urls.py\n",
    "│   │       └── wsgi.py\n",
    "│   └── tutorial\n",
    "│       ├── manage.py\n",
    "│       ├── snippets\n",
    "│       │   ├── __init__.py\n",
    "│       │   ├── admin.py\n",
    "│       │   ├── apps.py\n",
    "│       │   ├── migrations\n",
    "│       │   │   ├── 0001_initial.py\n",
    "│       │   │   └── __init__.py\n",
    "│       │   ├── models.py\n",
    "│       │   ├── permissions.py\n",
    "│       │   ├── serializers.py\n",
    "│       │   ├── tests.py\n",
    "│       │   ├── urls.py\n",
    "│       │   └── views.py\n",
    "│       └── tutorial\n",
    "│           ├── __init__.py\n",
    "│           ├── asgi.py\n",
    "│           ├── settings.py\n",
    "│           ├── urls.py\n",
    "│           └── wsgi.py\n",
    "└── solvestack_backend\n",
    "    ├── README.md\n",
    "    ├── db.sqlite3\n",
    "    ├── dev-requirements.txt\n",
    "    ├── manage.py\n",
    "    ├── requirements.txt\n",
    "    └── solvestack\n",
    "        ├── __init__.py\n",
    "        ├── __pycache__\n",
    "        │   ├── __init__.cpython-38.pyc\n",
    "        │   ├── settings.cpython-38.pyc\n",
    "        │   ├── urls.cpython-38.pyc\n",
    "        │   └── wsgi.cpython-38.pyc\n",
    "        ├── asgi.py\n",
    "        ├── fixtures\n",
    "        │   └── glossary.json\n",
    "        ├── glossary\n",
    "        │   ├── __init__.py\n",
    "        │   ├── __pycache__\n",
    "        │   │   ├── __init__.cpython-38.pyc\n",
    "        │   │   ├── admin.cpython-38.pyc\n",
    "        │   │   ├── filters.cpython-38.pyc\n",
    "        │   │   ├── models.cpython-38.pyc\n",
    "        │   │   ├── serializers.cpython-38.pyc\n",
    "        │   │   └── views.cpython-38.pyc\n",
    "        │   ├── admin.py\n",
    "        │   ├── apps.py\n",
    "        │   ├── filters.py\n",
    "        │   ├── migrations\n",
    "        │   │   ├── 0001_initial.py\n",
    "        │   │   ├── __init__.py\n",
    "        │   │   └── __pycache__\n",
    "        │   │       ├── 0001_initial.cpython-38.pyc\n",
    "        │   │       ├── __init__.cpython-37.pyc\n",
    "        │   │       └── __init__.cpython-38.pyc\n",
    "        │   ├── models.py\n",
    "        │   ├── serializers.py\n",
    "        │   ├── tests.py\n",
    "        │   └── views.py\n",
    "        ├── settings.py\n",
    "        ├── urls.py\n",
    "        └── wsgi.py\n",
    "```"
   ]
  },
  {
   "cell_type": "markdown",
   "metadata": {},
   "source": [
    "# Demo of both projects\n",
    "- Show tutorial's hyperlinked interface through [snippets](http://127.0.0.1:8000/snippets/) page\n",
    "- Show solvestack with [admin](http://127.0.0.1:8000/admin/) page added"
   ]
  },
  {
   "cell_type": "markdown",
   "metadata": {},
   "source": [
    "# Django view review\n",
    "Before we dig into some neat things we can do with views in Django REST, let's review Django views real quick!\n",
    "- A Django view is a Python function that receives a web request and returns a web response\n",
    "- All the logic to return the desired response goes inside the view\n",
    "- A general use case in Django would be:\n",
    "    1. Create application views\n",
    "    1. Define a URL pattern for each view\n",
    "    1. Create HTML templates to render the data generated by the views\n",
    "\n",
    "# Class-based views\n",
    "Class-based views are great for grouping common behaviors.  They can be re-used easily within our project, and enforce a good programming practice known as [DRY](https://en.wikipedia.org/wiki/Don't_repeat_yourself).  These are provided with Django, however Django REST extends these with additional features, such as mixin classes.  These provide us with [CRUD](https://en.wikipedia.org/wiki/Create,_read,_update_and_delete) solutions so we don't have to write them!\n",
    "\n",
    "## Goals\n",
    "- Understand what features mixin classes provide\n",
    "- Understand how classes can be refactored with already mixed-in generic class-based views"
   ]
  },
  {
   "cell_type": "code",
   "execution_count": null,
   "metadata": {},
   "outputs": [],
   "source": [
    "from snippets.models import Snippet\n",
    "from snippets.serializers import SnippetSerializer\n",
    "from rest_framework import mixins\n",
    "from rest_framework import generics\n",
    "\n",
    "class SnippetList(mixins.ListModelMixin,\n",
    "                  mixins.CreateModelMixin,\n",
    "                  generics.GenericAPIView):\n",
    "    queryset = Snippet.objects.all()\n",
    "    serializer_class = SnippetSerializer\n",
    "\n",
    "    def get(self, request, *args, **kwargs):\n",
    "        return self.list(request, *args, **kwargs)\n",
    "\n",
    "    def post(self, request, *args, **kwargs):\n",
    "        return self.create(request, *args, **kwargs)"
   ]
  },
  {
   "cell_type": "markdown",
   "metadata": {},
   "source": [
    "Mixin classes reduce the amount of code we write.  Here we're using [ListModelMixin](https://www.django-rest-framework.org/api-guide/generic-views/#listmodelmixin) and  [CreateModelMixin](https://www.django-rest-framework.org/api-guide/generic-views/#createmodelmixin).\n",
    "\n",
    "REST framework provides a set of already mixed-in generic views that we can use to trim down `views.py` even more.\n",
    "\n",
    "If we wanted to use already mixed-in generic class-based view in `snippets/views.py`:"
   ]
  },
  {
   "cell_type": "code",
   "execution_count": null,
   "metadata": {},
   "outputs": [],
   "source": [
    "from snippets.models import Snippet\n",
    "from snippets.serializers import SnippetSerializer\n",
    "from rest_framework import generics\n",
    "\n",
    "class SnippetList(generics.ListCreateAPIView):\n",
    "    queryset = Snippet.objects.all()\n",
    "    serializer_class = SnippetSerializer\n",
    "\n",
    "class SnippetDetail(generics.RetrieveUpdateDestroyAPIView):\n",
    "    queryset = Snippet.objects.all()\n",
    "    serializer_class = SnippetSerializer"
   ]
  },
  {
   "cell_type": "markdown",
   "metadata": {},
   "source": [
    "Much less code is needed with already mixed-in generic class-based views when compared to creating a class and adding in mixins.\n",
    "\n",
    "> Note: Solvestack code from `glossary/views.py` uses a viewset, which we'll talk about later.  The final version of the tutorial from the Django REST site also uses viewsets."
   ]
  },
  {
   "cell_type": "markdown",
   "metadata": {},
   "source": [
    "# More about serialization and relationships\n",
    "Django REST supports many different types of relationships between data.  Here are some examples:\n",
    "- Using primary keys\n",
    "- Using hyperlinking between entities\n",
    "- Using a unique identifying slug field on the related entity\n",
    "- Using the default string representation of the related entity\n",
    "- Nesting the related entity inside the parent representation\n",
    "- Some other custom representation\n",
    "\n",
    "https://www.django-rest-framework.org/api-guide/serializers/\n",
    "\n",
    "## Goals\n",
    "- Understand differences between `ModelSerializer` and `HyperLinkedModelSerializer`\n",
    "- Show other relationship styles\n",
    "\n",
    "## Activities\n",
    "- Implement a different relationship style"
   ]
  },
  {
   "cell_type": "code",
   "execution_count": null,
   "metadata": {},
   "outputs": [],
   "source": [
    "# tutorial serializer w/o models\n",
    "from rest_framework import serializers\n",
    "from snippets.models import Snippet, LANGUAGE_CHOICES, STYLE_CHOICES\n",
    "\n",
    "\n",
    "class SnippetSerializer(serializers.Serializer):\n",
    "    id = serializers.IntegerField(read_only=True)\n",
    "    title = serializers.CharField(required=False, allow_blank=True, max_length=100)\n",
    "    code = serializers.CharField(style={'base_template': 'textarea.html'})\n",
    "    linenos = serializers.BooleanField(required=False)\n",
    "    language = serializers.ChoiceField(choices=LANGUAGE_CHOICES, default='python')\n",
    "    style = serializers.ChoiceField(choices=STYLE_CHOICES, default='friendly')\n",
    "\n",
    "    def create(self, validated_data):\n",
    "        \"\"\"\n",
    "        Create and return a new `Snippet` instance, given the validated data.\n",
    "        \"\"\"\n",
    "        return Snippet.objects.create(**validated_data)\n",
    "\n",
    "    def update(self, instance, validated_data):\n",
    "        \"\"\"\n",
    "        Update and return an existing `Snippet` instance, given the validated data.\n",
    "        \"\"\"\n",
    "        instance.title = validated_data.get('title', instance.title)\n",
    "        instance.code = validated_data.get('code', instance.code)\n",
    "        instance.linenos = validated_data.get('linenos', instance.linenos)\n",
    "        instance.language = validated_data.get('language', instance.language)\n",
    "        instance.style = validated_data.get('style', instance.style)\n",
    "        instance.save()\n",
    "        return instance"
   ]
  },
  {
   "cell_type": "markdown",
   "metadata": {},
   "source": [
    "`snippets/serializers.py` with `ModelSerializer`:"
   ]
  },
  {
   "cell_type": "code",
   "execution_count": null,
   "metadata": {},
   "outputs": [],
   "source": [
    "class SnippetSerializer(serializers.ModelSerializer):\n",
    "    owner = serializers.ReadOnlyField(source='owner.username')\n",
    "    class Meta:\n",
    "        model = Snippet\n",
    "        fields = ['id', 'title', 'code', 'linenos', 'language', 'style', 'owner',]"
   ]
  },
  {
   "cell_type": "markdown",
   "metadata": {},
   "source": [
    "from `snippets/serializers.py` with `HyperLinkedModelSeralizer`:"
   ]
  },
  {
   "cell_type": "code",
   "execution_count": null,
   "metadata": {},
   "outputs": [],
   "source": [
    "class SnippetSerializer(serializers.HyperlinkedModelSerializer):\n",
    "    owner = serializers.ReadOnlyField(source='owner.username')\n",
    "    highlight = serializers.HyperlinkedIdentityField(view_name='snippet-highlight', format='html')\n",
    "\n",
    "    class Meta:\n",
    "        model = Snippet\n",
    "        fields = ['url', 'id', 'highlight', 'owner',\n",
    "                  'title', 'code', 'linenos', 'language', 'style']\n",
    "\n",
    "\n",
    "class UserSerializer(serializers.HyperlinkedModelSerializer):\n",
    "    snippets = serializers.HyperlinkedRelatedField(many=True, view_name='snippet-detail', read_only=True)\n",
    "\n",
    "    class Meta:\n",
    "        model = User\n",
    "        fields = ['url', 'id', 'username', 'snippets']"
   ]
  },
  {
   "cell_type": "markdown",
   "metadata": {},
   "source": [
    "`ModelSerializer` classes are a shortcut for creating serializer classes:\n",
    "- automatically determined set of fields\n",
    "- simple `create()` and `update()` methods are implemented for you\n",
    "\n",
    "Solvestack's `glossary/serializers.py` with `ModelSerializer`:"
   ]
  },
  {
   "cell_type": "code",
   "execution_count": null,
   "metadata": {},
   "outputs": [],
   "source": [
    "from rest_framework import serializers\n",
    "\n",
    "from solvestack.glossary.models import Term\n",
    "\n",
    "\n",
    "class TermSerializer(serializers.ModelSerializer):\n",
    "    class Meta:\n",
    "        model = Term\n",
    "        fields = [\"id\", \"name\", \"definition\"]\n",
    "        read_only_fields = [\"id\"]"
   ]
  },
  {
   "cell_type": "markdown",
   "metadata": {},
   "source": [
    "Let's try some of the other relationships and see how they work!  Here are some choices:\n",
    "\n",
    "- [ListSerializer](https://www.django-rest-framework.org/api-guide/serializers/#listserializer)\n",
    "- [BaseSerializer](https://www.django-rest-framework.org/api-guide/serializers/#baseserializer)\n",
    "- [Advanced Usage](https://www.django-rest-framework.org/api-guide/serializers/#advanced-serializer-usage)"
   ]
  },
  {
   "cell_type": "markdown",
   "metadata": {},
   "source": [
    "# Pagination\n",
    "## Goals\n",
    "- Understand the REST_FRAMEWORK dictionary in `tutorial/settings.py`\n",
    "- Understand how PageNumberPagination class works\n",
    "\n",
    "## Activities\n",
    "- Look at other pagination classes and show how they work\n",
    "- Implement pagination in the newly-grown terms list\n",
    "\n",
    "Tutorial's `settings.py`:"
   ]
  },
  {
   "cell_type": "code",
   "execution_count": null,
   "metadata": {},
   "outputs": [],
   "source": [
    "REST_FRAMEWORK = {\n",
    "    'DEFAULT_PAGINATION_CLASS': 'rest_framework.pagination.PageNumberPagination',\n",
    "    'PAGE_SIZE': 10\n",
    "}"
   ]
  },
  {
   "cell_type": "markdown",
   "metadata": {},
   "source": [
    "Solvestack's `solvestack/settings.py`:"
   ]
  },
  {
   "cell_type": "code",
   "execution_count": null,
   "metadata": {},
   "outputs": [],
   "source": [
    "REST_FRAMEWORK = {\n",
    "    \"DEFAULT_FILTER_BACKENDS\": (\"django_filters.rest_framework.DjangoFilterBackend\",)\n",
    "}"
   ]
  },
  {
   "cell_type": "markdown",
   "metadata": {},
   "source": [
    "# Viewsets\n",
    "\n",
    "https://www.django-rest-framework.org/api-guide/viewsets/\n",
    "\n",
    "Viewsets are a great way of quickly creating common view actions and writing a minimal amount of code.  They also allow us to use routers to automatically generate our URLConf.\n",
    "\n",
    "## Goals\n",
    "- import statements (`viewsets`, `action`, `Response`)\n",
    "- understand what actions `ReadOnlyModelViewSet` provides\n",
    "- understand what actions `ModelViewSet` provides\n",
    "- show other viewset classes\n",
    "- show code needed for manual urls\n",
    "- understand how routers work to handle URLConf with router with DefaultRouter().urls\n",
    "- show other router classes\n",
    "\n",
    "## Activities\n",
    "- create a new viewset within solvestack code (on a separate branch!), and add to admin page so we can put data into it"
   ]
  },
  {
   "cell_type": "code",
   "execution_count": null,
   "metadata": {},
   "outputs": [],
   "source": [
    "from rest_framework import viewsets\n",
    "from rest_framework.decorators import action\n",
    "from rest_framework.response import Response\n",
    "\n",
    "class UserViewSet(viewsets.ReadOnlyModelViewSet):\n",
    "    \"\"\"\n",
    "    This viewset automatically provides `list` and `detail` actions.\n",
    "    \"\"\"\n",
    "    queryset = User.objects.all()\n",
    "    serializer_class = UserSerializer\n",
    "\n",
    "class SnippetViewSet(viewsets.ModelViewSet):\n",
    "    \"\"\"\n",
    "    This viewset automatically provides `list`, `create`, `retrieve`,\n",
    "    `update` and `destroy` actions.\n",
    "\n",
    "    Additionally we also provide an extra `highlight` action.\n",
    "    \"\"\"\n",
    "    queryset = Snippet.objects.all()\n",
    "    serializer_class = SnippetSerializer\n",
    "    permission_classes = [permissions.IsAuthenticatedOrReadOnly,\n",
    "                          IsOwnerOrReadOnly]\n",
    "\n",
    "    @action(detail=True, renderer_classes=[renderers.StaticHTMLRenderer])\n",
    "    def highlight(self, request, *args, **kwargs):\n",
    "        snippet = self.get_object()\n",
    "        return Response(snippet.highlighted)\n",
    "\n",
    "    def perform_create(self, serializer):\n",
    "        serializer.save(owner=self.request.user)"
   ]
  },
  {
   "cell_type": "markdown",
   "metadata": {},
   "source": [
    "from `snippets/urls.py`:"
   ]
  },
  {
   "cell_type": "code",
   "execution_count": null,
   "metadata": {},
   "outputs": [],
   "source": [
    "from django.urls import path, include\n",
    "from rest_framework.routers import DefaultRouter\n",
    "from snippets import views\n",
    "\n",
    "# Create a router and register our viewsets with it.\n",
    "router = DefaultRouter()\n",
    "router.register(r'snippets', views.SnippetViewSet)\n",
    "router.register(r'users', views.UserViewSet)\n",
    "\n",
    "# The API URLs are now determined automatically by the router.\n",
    "urlpatterns = [\n",
    "    path('', include(router.urls)),\n",
    "]"
   ]
  },
  {
   "cell_type": "markdown",
   "metadata": {},
   "source": [
    "Solvestack's `glossary/views.py`:"
   ]
  },
  {
   "cell_type": "code",
   "execution_count": null,
   "metadata": {},
   "outputs": [],
   "source": [
    "from rest_framework import viewsets\n",
    "\n",
    "from .serializers import TermSerializer\n",
    "from .models import Term\n",
    "from .filters import TermsFilter\n",
    "\n",
    "\n",
    "class TermViewSet(viewsets.ModelViewSet):\n",
    "    queryset = Term.objects.all()\n",
    "    serializer_class = TermSerializer\n",
    "    filter_class = TermsFilter"
   ]
  },
  {
   "cell_type": "markdown",
   "metadata": {},
   "source": [
    "Note `ModelViewSet` is used, with `TermsFilter` and `TermSerializer`"
   ]
  },
  {
   "cell_type": "markdown",
   "metadata": {},
   "source": [
    "Solvestack's `glossary/urls.py`:"
   ]
  },
  {
   "cell_type": "code",
   "execution_count": null,
   "metadata": {},
   "outputs": [],
   "source": [
    "from rest_framework import routers\n",
    "\n",
    "from django.contrib import admin\n",
    "from django.urls import path, include\n",
    "\n",
    "from solvestack.glossary import views\n",
    "\n",
    "router = routers.DefaultRouter()\n",
    "router.register(\"terms\", views.TermViewSet)\n",
    "\n",
    "urlpatterns = [\n",
    "    path(\"\", include(router.urls)),\n",
    "    path(\"admin/\", admin.site.urls),\n",
    "]"
   ]
  },
  {
   "cell_type": "markdown",
   "metadata": {},
   "source": [
    "In the code above:\n",
    "- Note how the url for our terms is registered with the router\n",
    "- In our urlpatterns list, all urls registered with the router are added to our url paths\n",
    "\n",
    "## Other viewset types\n",
    "\n",
    "- GenericViewSet\n",
    "- ModelViewSet\n",
    "- ReadOnlyModelViewSet\n",
    "\n",
    "> Mixins can also be used to create custom viewset classes, using existing viewsets as a base\n",
    "\n",
    "## Activity - Adding a new viewset for stacks\n",
    "Now we'll create a new viewset that represents a stack!\n",
    "- cd into `solvestack_backend` folder\n",
    "- checkout new branch in solvestack_backend folder `git checkout -b stack_node`.  Type `git status` to verify you are on the new branch.\n",
    "\n",
    "## Tradoffs between views & viewsets\n",
    "Viewsets are a really useful abstraction, and ensure that the URL conventions are consistent across your API, cuts down on the amount of code you need to write, and allows you to concentrate on the interactions and representations the API provides rather then the specifics in the URLConf.\n",
    "\n",
    "It's not always the right approach to take - there are tradeoffs to consider.  Using viewsets is less explicit than building each view individually."
   ]
  }
 ],
 "metadata": {
  "kernelspec": {
   "display_name": "Python 3",
   "language": "python",
   "name": "python3"
  },
  "language_info": {
   "codemirror_mode": {
    "name": "ipython",
    "version": 3
   },
   "file_extension": ".py",
   "mimetype": "text/x-python",
   "name": "python",
   "nbconvert_exporter": "python",
   "pygments_lexer": "ipython3",
   "version": "3.8.5"
  }
 },
 "nbformat": 4,
 "nbformat_minor": 4
}
